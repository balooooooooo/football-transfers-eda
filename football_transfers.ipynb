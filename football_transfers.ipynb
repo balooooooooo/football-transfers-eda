{
 "cells": [
  {
   "cell_type": "code",
   "execution_count": null,
   "id": "initial_id",
   "metadata": {
    "is_executing": true
   },
   "outputs": [],
   "source": [
    "import pandas as pd\n",
    "import numpy as np\n",
    "import matplotlib.pyplot as plt\n",
    "import json\n",
    "from difflib import get_close_matches\n",
    "from IPython.display import display\n",
    "from matplotlib.ticker import ScalarFormatter\n",
    "from sklearn.linear_model import LinearRegression\n",
    "from sklearn.metrics import mean_squared_error, r2_score\n",
    "from sklearn.model_selection import train_test_split\n",
    "import plotly.graph_objects as go\n",
    "import seaborn as sns\n",
    "import statistics"
   ]
  },
  {
   "cell_type": "markdown",
   "id": "aaa487ddc3e297f6",
   "metadata": {
    "collapsed": false
   },
   "source": [
    "## Preprocessing & data cleaning\n",
    "\n",
    "**steps include:**\n",
    "- renaming dataset columns to snake_case and english\n",
    "- checking for missing values\n",
    "- checking for potential outliers\n",
    "- adding column country \n",
    "- validating text data\n",
    "- converting date to integer"
   ]
  },
  {
   "cell_type": "code",
   "execution_count": null,
   "id": "37a31526ec79bd8e",
   "metadata": {
    "collapsed": false,
    "is_executing": true
   },
   "outputs": [],
   "source": [
    "df = pd.read_csv(\"fotbal_prestupy_2000_2019.csv\", encoding='utf-8')"
   ]
  },
  {
   "cell_type": "code",
   "execution_count": null,
   "id": "9961ce41334343d8",
   "metadata": {
    "collapsed": false,
    "is_executing": true
   },
   "outputs": [],
   "source": [
    "df.head()"
   ]
  },
  {
   "cell_type": "code",
   "execution_count": null,
   "id": "ed7e408e4fc6913",
   "metadata": {
    "collapsed": false,
    "is_executing": true
   },
   "outputs": [],
   "source": [
    "df.rename(columns={\"Jméno\": \"name\", \n",
    "                   \"Pozice\": \"position\", \n",
    "                   \"Věk\": \"age\", \n",
    "                   \"Původní tým\": \"original_team\", \n",
    "                   \"Původní liga\": \"original_league\",\n",
    "                   \"Nový tým\": \"new_team\",\n",
    "                   \"Nová  Liga\": \"new_league\",\n",
    "                   \"Sezóna\": \"season\",\n",
    "                   \"Odhadovaná hodnota\": \"estimated_value\",\n",
    "                   \"Přestupová částka\": \"transfer_fee\"}, inplace=True)\n",
    "df.head()"
   ]
  },
  {
   "cell_type": "markdown",
   "id": "324f2d52872f58d",
   "metadata": {
    "collapsed": false
   },
   "source": [
    "## Understanding the dataset\n",
    "\n",
    "From limited information about the data, some research had to be done to understand and correctly interpret data. Based on empirical evidence, transfer_fee and estimated_value are both in €. For the sake of readability, I will divide those columns by 1000, making it estimated and true value of the player in thousands of euros. "
   ]
  },
  {
   "cell_type": "code",
   "execution_count": null,
   "id": "b2039144d39b3891",
   "metadata": {
    "collapsed": false,
    "is_executing": true
   },
   "outputs": [],
   "source": [
    "df[\"transfer_fee\"] = df[\"transfer_fee\"]/1000\n",
    "df[\"estimated_value\"] = df[\"estimated_value\"]/1000"
   ]
  },
  {
   "cell_type": "markdown",
   "id": "70ab31ffb0755b56",
   "metadata": {
    "collapsed": false
   },
   "source": [
    "### Validating text columns \n",
    "First I want to check all the text columns and try to find possible typos which could lead to duplicities. For this I will use difflib function get_close_matches, which will be able to return similar enough cases and should cover typos and mistranslations. "
   ]
  },
  {
   "cell_type": "code",
   "execution_count": null,
   "id": "5590400a6276eacc",
   "metadata": {
    "collapsed": false,
    "is_executing": true
   },
   "outputs": [],
   "source": [
    "text_cols = [\"name\", \"position\", \"original_team\", \"original_league\", \"new_team\", \"new_league\"]\n",
    "\n",
    "def preprocess_text(column):\n",
    "    column = column.str.strip() # strip trailing spaces \n",
    "    column = column.str.replace(\"-\",\" \") # replace - with space\n",
    "    column = column.str.replace(\"\\n\",\"\") # remove newlines\n",
    "    column = column.str.replace(\"\\t\",\"\") # remove tabs\n",
    "    column = column.str.lower() # all lowercase\n",
    "    return column"
   ]
  },
  {
   "cell_type": "code",
   "execution_count": null,
   "id": "e8e217e8e22e8df",
   "metadata": {
    "collapsed": false,
    "is_executing": true
   },
   "outputs": [],
   "source": [
    "for col in text_cols:\n",
    "    df[col] = preprocess_text(df[col])"
   ]
  },
  {
   "cell_type": "code",
   "execution_count": null,
   "id": "8716536b88bd712d",
   "metadata": {
    "collapsed": false,
    "is_executing": true
   },
   "outputs": [],
   "source": [
    "def get_similar_entities(unique_names):\n",
    "    matches= []\n",
    "    for i, name in enumerate(list(unique_names)):\n",
    "        possible_match = get_close_matches(name, list(unique_names[i+1:]), cutoff=0.7)\n",
    "        if possible_match:\n",
    "            matches.append((name, possible_match))\n",
    "    return matches"
   ]
  },
  {
   "cell_type": "code",
   "execution_count": null,
   "id": "13cbcb47685b2fa1",
   "metadata": {
    "collapsed": false,
    "is_executing": true
   },
   "outputs": [],
   "source": [
    "for col in [\"team\", \"league\"]:\n",
    "    display(f\"Similarities for {col}s:\")\n",
    "    display(get_similar_entities(pd.concat([df[f\"original_{col}\"], df[f\"new_{col}\"]]).unique()))"
   ]
  },
  {
   "cell_type": "markdown",
   "id": "401feda0853be594",
   "metadata": {
    "collapsed": false
   },
   "source": [
    "### Text cols revision results:\n",
    "**Revision of close matches found out two mistakes:**\n",
    "Al Shabab was in several instances named just Shabab\n",
    "Al Nasr was in several instances named just Nasr"
   ]
  },
  {
   "cell_type": "code",
   "execution_count": null,
   "id": "cb891b631bb070dc",
   "metadata": {
    "collapsed": false,
    "is_executing": true
   },
   "outputs": [],
   "source": [
    "df.loc[df[\"original_team\"] == \"shabab\", \"original_team\"] = \"al shabab\"\n",
    "df.loc[df[\"new_team\"] == \"shabab\", \"original_team\"] = \"al shabab\"\n",
    "\n",
    "df.loc[df[\"original_team\"] == \"nasr\", \"original_team\"] = \"al nasr\"\n",
    "df.loc[df[\"new_team\"] == \"nasr\", \"new_team\"] = \"al nasr\""
   ]
  },
  {
   "cell_type": "markdown",
   "id": "e64d0988df64ae83",
   "metadata": {
    "collapsed": false
   },
   "source": [
    "## Validating other columns \n",
    "looking into season, age, estimated_value and transfer_fee columns"
   ]
  },
  {
   "cell_type": "code",
   "execution_count": null,
   "id": "f47fe6ec27603a4b",
   "metadata": {
    "collapsed": false,
    "is_executing": true
   },
   "outputs": [],
   "source": [
    "df[\"season\"] = df[\"season\"].str.split(\"-\", expand=True)[0] # take the starting year of season\n",
    "df[\"season\"] = df[\"season\"].astype(int)"
   ]
  },
  {
   "cell_type": "markdown",
   "id": "6509eea95072a930",
   "metadata": {
    "collapsed": false
   },
   "source": [
    "### Check validity of ages "
   ]
  },
  {
   "cell_type": "code",
   "execution_count": null,
   "id": "dd8c435586ee79d7",
   "metadata": {
    "collapsed": false,
    "is_executing": true
   },
   "outputs": [],
   "source": [
    "df[\"age\"].sort_values(ascending=True) # There is one player who is 0 years old"
   ]
  },
  {
   "cell_type": "markdown",
   "id": "74491285318dad01",
   "metadata": {
    "collapsed": false
   },
   "source": [
    "There is one player with age 0. Assuming his parents did not sell his soul to a Saudi Arabian football club, I will impute this value with information available online. If there were more cases than just 1 and imputing with real data was too time consuming or impossible, I would use mean or median imputation. \n",
    "\n",
    "From his wikipedia page, I can see that he was 25 years old during his transfer from al shabab to ittihad"
   ]
  },
  {
   "cell_type": "code",
   "execution_count": null,
   "id": "179d6f042e9b3fbe",
   "metadata": {
    "collapsed": false,
    "is_executing": true
   },
   "outputs": [],
   "source": [
    "df[df[\"age\"] == 0]"
   ]
  },
  {
   "cell_type": "code",
   "execution_count": null,
   "id": "71e04ade4b441c6b",
   "metadata": {
    "collapsed": false,
    "is_executing": true
   },
   "outputs": [],
   "source": [
    "df.loc[df[\"age\"] == 0, \"age\"] = 25"
   ]
  },
  {
   "cell_type": "code",
   "execution_count": null,
   "id": "f54958cf9dbb291b",
   "metadata": {
    "collapsed": false,
    "is_executing": true
   },
   "outputs": [],
   "source": [
    "df[\"age\"].isna().sum() "
   ]
  },
  {
   "cell_type": "markdown",
   "id": "e9337d3832ade0bd",
   "metadata": {
    "collapsed": false
   },
   "source": [
    "### Check validity of season\n",
    "The number and values of seasons matches. No validation to go through here."
   ]
  },
  {
   "cell_type": "code",
   "execution_count": null,
   "id": "1eeb68f4ebb18eee",
   "metadata": {
    "collapsed": false,
    "is_executing": true
   },
   "outputs": [],
   "source": [
    "df[\"season\"].unique()"
   ]
  },
  {
   "cell_type": "markdown",
   "id": "8b41a24ff9e48774",
   "metadata": {
    "collapsed": false
   },
   "source": [
    "### Check validity of transfer_fee\n"
   ]
  },
  {
   "cell_type": "code",
   "execution_count": null,
   "id": "d1e7df16e0abb95c",
   "metadata": {
    "collapsed": false,
    "is_executing": true
   },
   "outputs": [],
   "source": [
    "df[\"transfer_fee\"].isna().sum() # no missing values"
   ]
  },
  {
   "cell_type": "code",
   "execution_count": null,
   "id": "4857555d5057ada",
   "metadata": {
    "collapsed": false,
    "is_executing": true
   },
   "outputs": [],
   "source": [
    "df.describe().apply(lambda s: s.apply('{0:.2f}'.format))"
   ]
  },
  {
   "cell_type": "markdown",
   "id": "ebf49b2c3934fb08",
   "metadata": {
    "collapsed": false
   },
   "source": [
    "### Check validity of estimated_value"
   ]
  },
  {
   "cell_type": "code",
   "execution_count": null,
   "id": "d4394754b9a1508",
   "metadata": {
    "collapsed": false,
    "is_executing": true
   },
   "outputs": [],
   "source": [
    "df[df.isna().any(axis=1)] #1260 missing values -> all of them are in estimated_value "
   ]
  },
  {
   "cell_type": "markdown",
   "id": "a022272c183a5775",
   "metadata": {
    "collapsed": false
   },
   "source": [
    "There are missing values across all the years except 2015. \n",
    "Most of  them in 2000, 2001, 2002, 2003, 2004.\n",
    "\n",
    "Possible solutions: \n",
    "   - Dropping the values\n",
    "   - mean/median imputation \n",
    "   - regression imputation"
   ]
  },
  {
   "cell_type": "code",
   "execution_count": null,
   "id": "5ad80daffdb2a8de",
   "metadata": {
    "collapsed": false,
    "is_executing": true
   },
   "outputs": [],
   "source": [
    "df[df.isna().any(axis=1)][\"season\"].value_counts() "
   ]
  },
  {
   "cell_type": "markdown",
   "id": "c92b2e6b7a97993",
   "metadata": {
    "collapsed": false
   },
   "source": [
    "### Outliers \n",
    "Checking for outliers is useful, as their presence could negatively affect models/statistical analysis etc. \n",
    "However due to this being only EDA task, while identifying and storing outliers, I will not remove them nor take any measures. On the contrary, I find them quite interesting to look at -> they could give us more insight into why these players are so expensive.\n",
    "The main idea being not removing outliers from this dataset is that it is NOT randomly sampled - we are sampling the 250 most expensive football transfers in the year, it is natural that we get some extreme values that  all others. "
   ]
  },
  {
   "cell_type": "code",
   "execution_count": null,
   "id": "b7f8387b1b98accf",
   "metadata": {
    "collapsed": false,
    "is_executing": true
   },
   "outputs": [],
   "source": [
    "def get_outliers_iqr(df, column_name):\n",
    "    sns.set_palette(\"turbo\")\n",
    "    fig, ax = plt.subplots(figsize=(10, 6))\n",
    "    boxplot = ax.boxplot(df[column_name], vert=False, patch_artist=True)\n",
    "\n",
    "    q1 = df[column_name].quantile(0.25)\n",
    "    q3 = df[column_name].quantile(0.75)\n",
    "    iqr = q3 - q1\n",
    "    lower_bound = q1 - 1.5 * iqr\n",
    "    upper_bound = q3 + 1.5 * iqr\n",
    "\n",
    "    lower_bound_ex = q1 - 3 * iqr\n",
    "    upper_bound_ex = q3 + 3 * iqr\n",
    "\n",
    "    outliers = df[((df[column_name] < lower_bound) & (df[column_name] >= lower_bound_ex)) | (\n",
    "            (df[column_name] > upper_bound) & (df[column_name] <= upper_bound_ex))]\n",
    "    ext_outliers = df[(df[column_name] < lower_bound_ex) | (df[column_name] > upper_bound_ex)]\n",
    "\n",
    "    ax.scatter(outliers[column_name], [1] * len(outliers),  alpha=0.7, label='Outliers', s=15, marker='o')\n",
    "    ax.scatter(ext_outliers[column_name], [1] * len(ext_outliers), alpha=0.7, label='Extreme Outliers', s=20, marker='x')\n",
    "\n",
    "    ax.axvline(lower_bound_ex, color='orange', linestyle='--', label='Lower Bound (3*IQR)')\n",
    "    ax.axvline(upper_bound_ex, color='orange', linestyle='--', label='Upper Bound (3*IQR)')\n",
    "\n",
    "    ax.set_yticklabels([column_name])\n",
    "    ax.set_xlabel('Values')\n",
    "    ax.set_title(f'Boxplot for {column_name} with Outliers')\n",
    "\n",
    "    ax.legend()\n",
    "\n",
    "    ax.xaxis.set_major_formatter(ScalarFormatter(useMathText=False))\n",
    "\n",
    "    plt.show()\n",
    "    return outliers, ext_outliers\n",
    "    "
   ]
  },
  {
   "cell_type": "code",
   "execution_count": null,
   "id": "ee1983406bd715a1",
   "metadata": {
    "collapsed": false,
    "is_executing": true
   },
   "outputs": [],
   "source": [
    "get_outliers_iqr(df, \"age\")\n",
    "outliers, ext_outliers = get_outliers_iqr(df, \"transfer_fee\")"
   ]
  },
  {
   "cell_type": "markdown",
   "id": "89a08fcc6f5d326d",
   "metadata": {
    "collapsed": false
   },
   "source": []
  },
  {
   "cell_type": "code",
   "execution_count": null,
   "id": "27f3888b516b4e9c",
   "metadata": {
    "collapsed": false,
    "is_executing": true
   },
   "outputs": [],
   "source": [
    "ext_outliers.sort_values(by=[\"transfer_fee\"], ascending=False)"
   ]
  },
  {
   "cell_type": "markdown",
   "id": "bbfb9972534c31e9",
   "metadata": {
    "collapsed": false
   },
   "source": [
    "### Imputing missing values\n",
    "\n",
    "For handling missing values I decided to go with regression imputation. Imputing with mean or median values for estimated_value column would make little to no sense as there clearly is a correlation between the *estimated_value* and *transfer_fee* and we should account for that. I decided to go with a simple model with only one explanatory variable and that being *transfer_fee*. Other values such as the player position could be added for more complex model. Needless to say, with R^2 ~ 0.73, the model does a sufficiently good job at imputing the missing values."
   ]
  },
  {
   "cell_type": "code",
   "execution_count": null,
   "id": "ad5cb094874d1a9a",
   "metadata": {
    "collapsed": false,
    "is_executing": true
   },
   "outputs": [],
   "source": [
    "df_copy = pd.get_dummies(df, columns=['position'])\n",
    "df_complete = df_copy.dropna(subset=['estimated_value'])\n",
    "df_incomplete = df_copy[df_copy['estimated_value'].isnull()]\n",
    "\n",
    "X_cols = ['transfer_fee']\n",
    "\n",
    "X = df_complete[X_cols]\n",
    "y = df_complete['estimated_value']\n",
    "\n",
    "X_train, X_test, y_train, y_test = train_test_split(X, y, test_size=0.2, random_state=42)\n",
    "\n",
    "model = LinearRegression()\n",
    "model.fit(X_train, y_train)\n",
    "\n",
    "y_pred = model.predict(X_test)\n",
    "\n",
    "r2 = r2_score(y_test, y_pred)\n",
    "mse = mean_squared_error(y_test, y_pred)\n",
    "rmse = mean_squared_error(y_test, y_pred, squared=False)\n",
    "\n",
    "print(f\"R-squared (R2): {r2:.4f}\")\n",
    "print(f\"Mean Squared Error (MSE): {mse:.4f}\")\n",
    "print(f\"Root Mean Squared Error (RMSE): {rmse:.4f}\")\n",
    "sns.set_palette(\"turbo\")\n",
    "\n",
    "plt.figure(figsize=(10, 6))\n",
    "\n",
    "plt.scatter(df_complete['transfer_fee'], y, alpha=0.7, label='Actual Values (Complete Data)')\n",
    "plt.scatter(df_incomplete['transfer_fee'], model.predict(df_incomplete[X_cols]), color = 'yellow', alpha=0.7, label='Imputed Values')\n",
    "plt.plot(df_complete['transfer_fee'], model.predict(X), color='red', label='Regression Line')\n",
    "\n",
    "plt.title('Linear Regression: Estimated Value vs Transfer Fee')\n",
    "plt.xlabel('Transfer Fee')\n",
    "plt.ylabel('Estimated Value')\n",
    "plt.legend()\n",
    "plt.show()\n",
    "df.loc[df['estimated_value'].isnull(), 'estimated_value'] = model.predict(df_incomplete[X_cols])"
   ]
  },
  {
   "cell_type": "markdown",
   "id": "83d24618a823969",
   "metadata": {
    "collapsed": false
   },
   "source": []
  },
  {
   "cell_type": "markdown",
   "id": "9b8e9dea7938c4fa",
   "metadata": {
    "collapsed": false
   },
   "source": [
    "### Deriving feature country - this is me trying to be original\n",
    "**While league and team may be useful identificators of the background, it may not always be clear where the team is from as we have 615 unique teams. I decided to engineer a features \"origin_country\" and \"target_country\", that will represent the countries of the original and target teams, respectively.**\n",
    "\n",
    "**For this I decided to use GPT 3.5 from OpenAI with the prompt:**\n",
    "*\"You will be presented with a list of football teams. I want you to assign the country of origin to them. Provide me with an output in the form of a python dictionary. E.g. {\"Chelsea\": \"England\", \"Bayern\": \"Germany\"}. If you are not sure what country the team is from, type \"unknown\".\"*\n",
    "\n",
    "\n",
    "**Outputs from the language model were saved into *countries.json* file.** "
   ]
  },
  {
   "cell_type": "code",
   "execution_count": null,
   "id": "5000f5b0544ccad2",
   "metadata": {
    "collapsed": false,
    "is_executing": true
   },
   "outputs": [],
   "source": [
    "pd.concat([df[\"original_team\"], df[\"new_team\"]]).unique()  # output from this list was used in the prompt to generate the feature country"
   ]
  },
  {
   "cell_type": "code",
   "execution_count": null,
   "id": "cddc2b94f63f263d",
   "metadata": {
    "collapsed": false,
    "is_executing": true
   },
   "outputs": [],
   "source": [
    "with open(\"countries.json\", \"r\", encoding=\"utf-8\") as f:\n",
    "    countries = json.load(f)"
   ]
  },
  {
   "cell_type": "code",
   "execution_count": null,
   "id": "bcd491eb3997454e",
   "metadata": {
    "collapsed": false,
    "is_executing": true
   },
   "outputs": [],
   "source": [
    "df_countries = pd.DataFrame.from_dict(countries.items())\n",
    "df_countries.columns =[\"team\", \"country\"]\n",
    "df_countries[\"team\"] = preprocess_text(df_countries[\"team\"])\n",
    "df_countries[\"country\"] = preprocess_text(df_countries[\"country\"])"
   ]
  },
  {
   "cell_type": "code",
   "execution_count": null,
   "id": "b35acaf5b5420c27",
   "metadata": {
    "collapsed": false,
    "is_executing": true
   },
   "outputs": [],
   "source": [
    "df = pd.merge(df, df_countries, left_on=['new_team'], right_on=['team'], how='left')\n",
    "df = pd.merge(df, df_countries, left_on=['original_team'], right_on=['team'], how='left', suffixes=('_new', '_original'))\n",
    "df.drop(['team_new', 'team_original'], axis=1, inplace=True)\n",
    "df.rename(columns={'country_new': 'new_country', 'country_original': 'original_country'}, inplace=True)"
   ]
  },
  {
   "cell_type": "code",
   "execution_count": null,
   "id": "4df66c46d0d8dba0",
   "metadata": {
    "collapsed": false,
    "is_executing": true
   },
   "outputs": [],
   "source": [
    "df.head()"
   ]
  },
  {
   "cell_type": "markdown",
   "id": "5fd23b3cf1edfa3",
   "metadata": {
    "collapsed": false
   },
   "source": [
    "# Analysis of the dataset\n",
    "## 1. Basic analysis\n",
    "First we should take a closer look at some basic statistical facts in the dataset. This will help us possibly derive more information as we move forward. We already know some basic info about outlying values and missing values. \n",
    "\n",
    "This will include\n",
    "- distribution of transfer fees\n",
    "- distribution of age  "
   ]
  },
  {
   "cell_type": "code",
   "execution_count": null,
   "id": "338af83e4827b552",
   "metadata": {
    "collapsed": false,
    "is_executing": true
   },
   "outputs": [],
   "source": [
    "def get_hist(df,col,msg=\"\"):\n",
    "    sns.set_palette(\"turbo\")\n",
    "    plt.hist(df[col], bins=20, edgecolor=\"black\")\n",
    "    plt.title(f\"Distribution of values in {col} {msg}:\")\n",
    "    plt.xlabel(col)\n",
    "    plt.ylabel(\"Frequency\")\n",
    "    plt.show()\n",
    "    \n",
    "    print(f\"Mean value of '{col}' {msg}: {np.mean(df[col])}\")\n",
    "    print(f\"Median value of '{col}' {msg}: {np.median(df[col])}\")\n",
    "    print(f\"Variance value of '{col}' {msg}: {np.var(df[col])}\")\n",
    "    print(f\"1st quartile value of '{col}' {msg}: {df[col].quantile(0.25)}\")\n",
    "    print(f\"3rd quartile value of '{col}' {msg}: {df[col].quantile(0.75)}\")\n",
    "\n",
    "def get_relative_freq_categorical(df, col):\n",
    "    position_counts = df[col].value_counts(normalize=True, sort=True)\n",
    "\n",
    "    sns.set_palette(\"turbo\")\n",
    "\n",
    "    plt.figure(figsize=(10, 6))  # Adjust the figure size as needed\n",
    "    bar_plot = sns.barplot(x=position_counts.index, y=position_counts.values)\n",
    "\n",
    "    plt.xlabel(col)\n",
    "    plt.ylabel('Relative Frequency')\n",
    "    plt.title(f'Relative Frequencies of {col}')\n",
    "\n",
    "    # plt.xticks(rotation=45, ha='right')\n",
    "    plt.xticks(rotation=90)\n",
    "\n",
    "    for p in bar_plot.patches:\n",
    "        bar_plot.annotate(f'{p.get_height()*100:.2f}%', (p.get_x() + p.get_width() / 2., p.get_height()),\n",
    "                          ha='center', va='center', xytext=(0, 25), textcoords='offset points', rotation = 90)\n",
    "\n",
    "    # Show the plot\n",
    "    plt.tight_layout()\n",
    "    plt.show()\n",
    "\n",
    "def plot_popular_destinations(dest, top_n):\n",
    "    country_counts = df.groupby(['season', dest]).size().reset_index(name='counts')\n",
    "    season_totals = country_counts.groupby('season')['counts'].sum().reset_index(name='total_appearances')\n",
    "\n",
    "    country_counts = pd.merge(country_counts, season_totals, on='season', how='left')\n",
    "    country_counts['proportion'] = country_counts['counts'] / country_counts['total_appearances']\n",
    "\n",
    "    top_countries = country_counts.groupby(dest)['proportion'].sum().nlargest(top_n).index\n",
    "\n",
    "    top_countries_data = country_counts[country_counts[dest].isin(top_countries)]\n",
    "\n",
    "    pivot_data = top_countries_data.pivot(index='season', columns=dest, values='proportion').fillna(0)\n",
    "\n",
    "    plt.figure(figsize=(10, 6))\n",
    "    for country in pivot_data.columns:\n",
    "        plt.plot(pivot_data.index, pivot_data[country], label=country, marker='o')\n",
    "\n",
    "    plt.title(f'Top {top_n} Most Frequent {dest} (Proportional) Over the Years')\n",
    "    plt.xlabel('Season')\n",
    "    plt.ylabel('Proportion of Appearances')\n",
    "    plt.legend(bbox_to_anchor=(1.05, 1), loc='upper left')\n",
    "\n",
    "    plt.xticks(pivot_data.index[pivot_data.index % 1 == 0].astype(int))\n",
    "\n",
    "    plt.grid(True)\n",
    "    plt.show()\n",
    "\n",
    "def median_price_per_player(df, col):\n",
    "    sorted_positions = df.groupby(col)['transfer_fee'].median().sort_values(ascending=False).index\n",
    "    print(sorted_positions)\n",
    "    # Create a boxplot using seaborn\n",
    "    plt.figure(figsize=(10, 6))\n",
    "    order = sorted_positions if col != 'season' else [i for i in range(2000,2019)]\n",
    "    sns.boxplot(x=col, y='transfer_fee', data=df, order=order, showfliers = False)\n",
    "    sns.set_palette(\"turbo\")\n",
    "\n",
    "    # Rotate x-axis labels\n",
    "    plt.xticks(rotation=45, ha='right')\n",
    "    \n",
    "    plt.title(f'Transfer Fees by ')\n",
    "    plt.xlabel(col)\n",
    "    plt.ylabel('Transfer Fee (in thousands of €)')\n",
    "    \n",
    "    # Display mean, median, and support values in a separate DataFrame\n",
    "    summary_df = pd.DataFrame({\n",
    "        'Position': sorted_positions,\n",
    "        'Median': df.groupby(col)['transfer_fee'].median().loc[sorted_positions],\n",
    "        'Mean': df.groupby(col)['transfer_fee'].mean().loc[sorted_positions].round(2),\n",
    "        'Support': df[col].value_counts().loc[sorted_positions]\n",
    "    })\n",
    "    \n",
    "    # Print the summary DataFrame\n",
    "    print(\"Summary DataFrame:\")\n",
    "    print(summary_df)\n",
    "\n"
   ]
  },
  {
   "cell_type": "code",
   "execution_count": null,
   "id": "19ee63ace02c64c0",
   "metadata": {
    "collapsed": false,
    "is_executing": true
   },
   "outputs": [],
   "source": [
    "get_hist(df,\"transfer_fee\", \"with oultiers\")\n",
    "df_without_outliers = df[~df.isin(pd.concat([outliers, ext_outliers]))].dropna()\n",
    "get_hist(df_without_outliers,\"transfer_fee\", \"without outliers\")\n",
    "get_hist(outliers,\"transfer_fee\" ,\"only outliers\")\n",
    "get_hist(ext_outliers,\"transfer_fee\" ,\"only extreme outliers\")"
   ]
  },
  {
   "cell_type": "markdown",
   "source": [
    "Distribution of age approx. normally distributed with mean= 24.34 and var = 10.3. \n",
    "With IQR being 22 - 27, we can say that 50 % of the most expensive players are between 22 - 27 years old."
   ],
   "metadata": {
    "collapsed": false
   },
   "id": "1e60ae5864551a55"
  },
  {
   "cell_type": "code",
   "execution_count": null,
   "outputs": [],
   "source": [
    "get_hist(df, \"age\")"
   ],
   "metadata": {
    "collapsed": false,
    "is_executing": true
   },
   "id": "1755a763a70c4ca5"
  },
  {
   "cell_type": "markdown",
   "source": [
    "More than 25 % of the 250 most expensive football transfers recorded included players playing the 'centre forward' position, then 'centre back' at rougly 15 %, followed by 'central midfield', 'attacking midfield' and 'defensive midfield' at approx 10  %, 9% and 9% respectively. Other positions see a significant dropoff. 'forward', 'defender', 'sweeper' and 'midfielder' see little to no presence in the most exclusive 250. "
   ],
   "metadata": {
    "collapsed": false
   },
   "id": "f6fe516f1ff0cea6"
  },
  {
   "cell_type": "code",
   "execution_count": null,
   "outputs": [],
   "source": [
    "get_relative_freq_categorical(df,\"position\")"
   ],
   "metadata": {
    "collapsed": false,
    "is_executing": true
   },
   "id": "e2fecabecf2ba2ec"
  },
  {
   "cell_type": "markdown",
   "source": [
    "As there is more than plenty of teams and leagues, let's have a look at our added variable country. Analyzing this could give us more comprehensive look into what country's market is the best for high-profile transfers and could be a good intermediate step between analyzing leagues as it could lead us into countries with high amount of expensive transfers.\n",
    "\n",
    "Looking at the relative frequency plot of new_country in the dataset of transfers, which symbolises the country where the player's new team is based in, we can see that England takes over with 28.70 %, followed by Italy with 16.36 %, Spain at 11.28 %, Germany and France at 9.11 % and 8.55 % respectively. After those leagues, it is only Russia with 5.04 % that clings over 5 %. This can be interpreted as such: In 28.7 % cases from the top 250 most expensive football buyouts from each year ranging from 2000-2018, the team pourchasing the player was based in England. \n",
    "This gives us an insight into how strong of a football market England is and how their teams do not fear to go to extensive lengths when purchasing new additions to their teams.\n",
    "\n",
    "\n",
    "The next plot shows us the evolution on the market over time - at least for the market represented by our limited dataset. I decided to plot the top 6 who all had more than 5% share on the global market. England dominates high-end transfers for all years, the only year it just barely wasn't the top1 market for the most expensive players was 2018, when Italy, with its steady rise from  2014 came in first. In this plot we can also see the decline in high-level purchases by Russian teams, possibly corellating with the sanctions imposed by the EU and USA because of Russia's unlawful 2014 annexation of Ukrainian Crimea. "
   ],
   "metadata": {
    "collapsed": false
   },
   "id": "8fb8686b99d786b5"
  },
  {
   "cell_type": "code",
   "execution_count": null,
   "outputs": [],
   "source": [
    "get_relative_freq_categorical(df, \"new_country\")\n",
    "plot_popular_destinations(\"new_country\", 6)\n",
    "\n",
    "plot_popular_destinations(\"new_country\", 2)"
   ],
   "metadata": {
    "collapsed": false,
    "is_executing": true
   },
   "id": "204a0d349e7d9e4"
  },
  {
   "cell_type": "markdown",
   "source": [
    "While inpecting the relative frequencies of countries in the original_country column, we can see that England tops this chart as well, albeit with slightly less dominance.\n",
    "Interpreting this plot could be tricky, as one could easily interpret this plot as being the country from which players leave the most. This is not the case. This plot only shows us the home country of most of the teams who agreed to sell their players to another team for a sum that is in top 250 in given year. In this category, Brazil has replaced Russia as the last country above 5 %. This means that while Brazil teams are able to produce top-class expensive players, they are most often than not headed outside Brazil.\n",
    "\n",
    "In this plot we see a lot more variety in the countries, as talent playing in the 'lesser' countries, when it comes to football culture, tends to go to markets which are able to pay their expensive buyouts. "
   ],
   "metadata": {
    "collapsed": false
   },
   "id": "36fef402a0bbcfc7"
  },
  {
   "cell_type": "code",
   "execution_count": null,
   "outputs": [],
   "source": [
    "get_relative_freq_categorical(df, \"original_country\")\n",
    "plot_popular_destinations(\"original_country\", 6)"
   ],
   "metadata": {
    "collapsed": false,
    "is_executing": true
   },
   "id": "bc788347600702ec"
  },
  {
   "cell_type": "markdown",
   "source": [
    "Relative frequencies of new_league are looking similarly to new_country analysis from before, but show respective leagues. The chart is once again dominated by the English - the premier league teams account for 26.72 % of the top 250 purchases from the years 2000-2018."
   ],
   "metadata": {
    "collapsed": false
   },
   "id": "c98cf2f627ef0b00"
  },
  {
   "cell_type": "code",
   "execution_count": null,
   "outputs": [],
   "source": [
    "get_relative_freq_categorical(df, \"new_league\")\n",
    "plot_popular_destinations(\"new_league\", 7)"
   ],
   "metadata": {
    "collapsed": false,
    "is_executing": true
   },
   "id": "4e5436364207ca28"
  },
  {
   "cell_type": "code",
   "execution_count": null,
   "outputs": [],
   "source": [
    "plot_popular_destinations(\"new_country\", 5)"
   ],
   "metadata": {
    "collapsed": false,
    "is_executing": true
   },
   "id": "5997f5446a38e747"
  },
  {
   "cell_type": "markdown",
   "source": [
    "Let's look into what position dominates the most demanded players in the years 2000-2018. As I am keeping quite a bit of outliers, I decided to stick with median as that will be robust enough for us. \n",
    "From this plot we can see that left winger position has the highest median price at 8 200 000 eur with 267 support from the dataset. \n",
    "On the other hand, centre forward position has the highest support in our dataset with 1218, but much lower median value of transfer at 6 800 000 eur.\n",
    "Sweeper, forward, defender and midfielder are represented by units of transactions. As I have no knowledge of football, I will amount this to the unpopular nature of these roles, rather than redundancy with other names (e.g. forward being another name for other position)"
   ],
   "metadata": {
    "collapsed": false
   },
   "id": "6125fb84c191208e"
  },
  {
   "cell_type": "code",
   "execution_count": null,
   "outputs": [],
   "source": [
    "median_price_per_player(df, \"position\")"
   ],
   "metadata": {
    "collapsed": false,
    "is_executing": true
   },
   "id": "604b5c9908d5a820"
  },
  {
   "cell_type": "markdown",
   "source": [
    "Another interesting thing to look at could be the evolution of mean transfer fee over time.\n",
    "From this we can see that the highest median is in year 2017, lowest in the year 2003 with difference being astonishing. This could be due to inflation, more money being spent in the football industry or generally more competitive environment on the football player market. \n",
    "\n",
    "One thing to notice is the increasing variance (volatility) in transfer fees as the time progresses."
   ],
   "metadata": {
    "collapsed": false
   },
   "id": "5af0e7187153028a"
  },
  {
   "cell_type": "code",
   "execution_count": null,
   "outputs": [],
   "source": [
    "median_price_per_player(df, \"season\")"
   ],
   "metadata": {
    "collapsed": false,
    "is_executing": true
   },
   "id": "7d17e9be8a6ae1ab"
  },
  {
   "cell_type": "code",
   "execution_count": null,
   "outputs": [],
   "source": [],
   "metadata": {
    "collapsed": false,
    "is_executing": true
   },
   "id": "1b99cf9e8181db07"
  },
  {
   "cell_type": "markdown",
   "id": "fb119b03cbc032c1",
   "metadata": {
    "collapsed": false
   },
   "source": [
    "### Where are the most expensive players drawn? "
   ]
  },
  {
   "cell_type": "markdown",
   "id": "703797e0dfb34902",
   "metadata": {
    "collapsed": false
   },
   "source": [
    "### 1.2 Who are the most expensive players? \n",
    "\n",
    "While it may be "
   ]
  },
  {
   "cell_type": "code",
   "execution_count": null,
   "outputs": [],
   "source": [
    "def plot_popular_destinations(dest, top_n):\n",
    "    country_counts = df.groupby(['season', dest]).size().reset_index(name='counts')\n",
    "    season_totals = country_counts.groupby('season')['counts'].sum().reset_index(name='total_appearances')\n",
    "    \n",
    "    country_counts = pd.merge(country_counts, season_totals, on='season', how='left')\n",
    "    country_counts['proportion'] = country_counts['counts'] / country_counts['total_appearances']\n",
    "    \n",
    "    top_countries = country_counts.groupby(dest)['proportion'].sum().nlargest(top_n).index\n",
    "    \n",
    "    top_countries_data = country_counts[country_counts[dest].isin(top_countries)]\n",
    "    \n",
    "    pivot_data = top_countries_data.pivot(index='season', columns=dest, values='proportion').fillna(0)\n",
    "    \n",
    "    plt.figure(figsize=(10, 6))\n",
    "    for country in pivot_data.columns:\n",
    "        plt.plot(pivot_data.index, pivot_data[country], label=country, marker='o')\n",
    "    \n",
    "    plt.title(f'Top {top_n} Most Frequent {dest} (Proportional) Over the Years')\n",
    "    plt.xlabel('Season')\n",
    "    plt.ylabel('Proportion of Appearances')\n",
    "    plt.legend(bbox_to_anchor=(1.05, 1), loc='upper left')\n",
    "    \n",
    "    plt.xticks(pivot_data.index[pivot_data.index % 1 == 0].astype(int))\n",
    "    \n",
    "    plt.grid(True)\n",
    "    plt.show()"
   ],
   "metadata": {
    "collapsed": false,
    "is_executing": true
   },
   "id": "98ac99b1719a2fbb"
  },
  {
   "cell_type": "markdown",
   "source": [
    "### Finding super stars "
   ],
   "metadata": {
    "collapsed": false
   },
   "id": "a91ea1993db814e7"
  },
  {
   "cell_type": "code",
   "execution_count": null,
   "outputs": [],
   "source": [
    "duplicate_names = df[df.duplicated('name', keep=False)]\n",
    "result = df[df['name'].isin(duplicate_names['name'])]"
   ],
   "metadata": {
    "collapsed": false,
    "is_executing": true
   },
   "id": "46d020f63122720a"
  },
  {
   "cell_type": "code",
   "execution_count": null,
   "outputs": [],
   "source": [
    "result['name'].value_counts()"
   ],
   "metadata": {
    "collapsed": false,
    "is_executing": true
   },
   "id": "c03e4760ab469db3"
  },
  {
   "cell_type": "code",
   "execution_count": null,
   "outputs": [],
   "source": [
    "result[result[\"name\"] == 'fernando']"
   ],
   "metadata": {
    "collapsed": false,
    "is_executing": true
   },
   "id": "a5530c01e22372cb"
  },
  {
   "cell_type": "code",
   "execution_count": null,
   "outputs": [],
   "source": [
    "df = df.sort_values(by=['name', 'age'])\n",
    "df['transfer_fee_diff'] = df.groupby('name')['transfer_fee'].diff()\n",
    "result = df[df['transfer_fee_diff'] >= 0]\n",
    "result = result.drop(columns=['transfer_fee_diff'])"
   ],
   "metadata": {
    "collapsed": false,
    "is_executing": true
   },
   "id": "72f6e74cf2e01b1e"
  },
  {
   "cell_type": "code",
   "execution_count": null,
   "outputs": [],
   "source": [
    "result"
   ],
   "metadata": {
    "collapsed": false,
    "is_executing": true
   },
   "id": "649222f58049f924"
  }
 ],
 "metadata": {
  "kernelspec": {
   "display_name": "Python 3 (ipykernel)",
   "language": "python",
   "name": "python3"
  },
  "language_info": {
   "codemirror_mode": {
    "name": "ipython",
    "version": 3
   },
   "file_extension": ".py",
   "mimetype": "text/x-python",
   "name": "python",
   "nbconvert_exporter": "python",
   "pygments_lexer": "ipython3",
   "version": "3.10.0"
  }
 },
 "nbformat": 4,
 "nbformat_minor": 5
}
