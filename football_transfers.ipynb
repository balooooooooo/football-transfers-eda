{
 "cells": [
  {
   "cell_type": "code",
   "execution_count": 1,
   "id": "initial_id",
   "metadata": {
    "collapsed": true,
    "ExecuteTime": {
     "end_time": "2024-01-19T17:28:21.171061600Z",
     "start_time": "2024-01-19T17:28:21.157075700Z"
    }
   },
   "outputs": [],
   "source": [
    "import pandas as pd\n",
    "import numpy as np\n",
    "import matplotlib.pyplot as plt\n",
    "import json\n",
    "from difflib import get_close_matches\n",
    "from IPython.display import display\n",
    "from matplotlib.ticker import ScalarFormatter\n",
    "import seaborn as sns"
   ]
  },
  {
   "cell_type": "markdown",
   "source": [
    "## Preprocessing & data cleaning\n",
    "\n",
    "**steps include:**\n",
    "- renaming dataset columns to snake_case and english\n",
    "- checking for missing values\n",
    "- checking for potential outliers\n",
    "- adding column country \n",
    "- validating text data\n",
    "- converting date to integer"
   ],
   "metadata": {
    "collapsed": false
   },
   "id": "aaa487ddc3e297f6"
  },
  {
   "cell_type": "code",
   "execution_count": 2,
   "outputs": [],
   "source": [
    "df = pd.read_csv(\"fotbal_prestupy_2000_2019.csv\", encoding='utf-8')"
   ],
   "metadata": {
    "collapsed": false,
    "ExecuteTime": {
     "end_time": "2024-01-19T17:28:21.186405600Z",
     "start_time": "2024-01-19T17:28:21.171061600Z"
    }
   },
   "id": "37a31526ec79bd8e"
  },
  {
   "cell_type": "code",
   "execution_count": 3,
   "outputs": [
    {
     "data": {
      "text/plain": "               Jméno          Pozice  Věk   Původní tým    Původní liga  \\\n0          Luís Figo    Right Winger   27  FC Barcelona          LaLiga   \n1      Hernán Crespo  Centre-Forward   25         Parma         Serie A   \n2      Marc Overmars     Left Winger   27       Arsenal  Premier League   \n3  Gabriel Batistuta  Centre-Forward   31    Fiorentina         Serie A   \n4     Nicolas Anelka  Centre-Forward   21   Real Madrid          LaLiga   \n\n       Nový tým Nová  Liga     Sezóna  Odhadovaná hodnota  Přestupová částka  \n0   Real Madrid     LaLiga  2000-2001                 NaN           60000000  \n1         Lazio    Serie A  2000-2001                 NaN           56810000  \n2  FC Barcelona     LaLiga  2000-2001                 NaN           40000000  \n3       AS Roma    Serie A  2000-2001                 NaN           36150000  \n4      Paris SG    Ligue 1  2000-2001                 NaN           34500000  ",
      "text/html": "<div>\n<style scoped>\n    .dataframe tbody tr th:only-of-type {\n        vertical-align: middle;\n    }\n\n    .dataframe tbody tr th {\n        vertical-align: top;\n    }\n\n    .dataframe thead th {\n        text-align: right;\n    }\n</style>\n<table border=\"1\" class=\"dataframe\">\n  <thead>\n    <tr style=\"text-align: right;\">\n      <th></th>\n      <th>Jméno</th>\n      <th>Pozice</th>\n      <th>Věk</th>\n      <th>Původní tým</th>\n      <th>Původní liga</th>\n      <th>Nový tým</th>\n      <th>Nová  Liga</th>\n      <th>Sezóna</th>\n      <th>Odhadovaná hodnota</th>\n      <th>Přestupová částka</th>\n    </tr>\n  </thead>\n  <tbody>\n    <tr>\n      <th>0</th>\n      <td>Luís Figo</td>\n      <td>Right Winger</td>\n      <td>27</td>\n      <td>FC Barcelona</td>\n      <td>LaLiga</td>\n      <td>Real Madrid</td>\n      <td>LaLiga</td>\n      <td>2000-2001</td>\n      <td>NaN</td>\n      <td>60000000</td>\n    </tr>\n    <tr>\n      <th>1</th>\n      <td>Hernán Crespo</td>\n      <td>Centre-Forward</td>\n      <td>25</td>\n      <td>Parma</td>\n      <td>Serie A</td>\n      <td>Lazio</td>\n      <td>Serie A</td>\n      <td>2000-2001</td>\n      <td>NaN</td>\n      <td>56810000</td>\n    </tr>\n    <tr>\n      <th>2</th>\n      <td>Marc Overmars</td>\n      <td>Left Winger</td>\n      <td>27</td>\n      <td>Arsenal</td>\n      <td>Premier League</td>\n      <td>FC Barcelona</td>\n      <td>LaLiga</td>\n      <td>2000-2001</td>\n      <td>NaN</td>\n      <td>40000000</td>\n    </tr>\n    <tr>\n      <th>3</th>\n      <td>Gabriel Batistuta</td>\n      <td>Centre-Forward</td>\n      <td>31</td>\n      <td>Fiorentina</td>\n      <td>Serie A</td>\n      <td>AS Roma</td>\n      <td>Serie A</td>\n      <td>2000-2001</td>\n      <td>NaN</td>\n      <td>36150000</td>\n    </tr>\n    <tr>\n      <th>4</th>\n      <td>Nicolas Anelka</td>\n      <td>Centre-Forward</td>\n      <td>21</td>\n      <td>Real Madrid</td>\n      <td>LaLiga</td>\n      <td>Paris SG</td>\n      <td>Ligue 1</td>\n      <td>2000-2001</td>\n      <td>NaN</td>\n      <td>34500000</td>\n    </tr>\n  </tbody>\n</table>\n</div>"
     },
     "execution_count": 3,
     "metadata": {},
     "output_type": "execute_result"
    }
   ],
   "source": [
    "df.head()"
   ],
   "metadata": {
    "collapsed": false,
    "ExecuteTime": {
     "end_time": "2024-01-19T17:28:21.244371Z",
     "start_time": "2024-01-19T17:28:21.187416Z"
    }
   },
   "id": "9961ce41334343d8"
  },
  {
   "cell_type": "code",
   "execution_count": 4,
   "outputs": [
    {
     "data": {
      "text/plain": "                name        position  age original_team original_league  \\\n0          Luís Figo    Right Winger   27  FC Barcelona          LaLiga   \n1      Hernán Crespo  Centre-Forward   25         Parma         Serie A   \n2      Marc Overmars     Left Winger   27       Arsenal  Premier League   \n3  Gabriel Batistuta  Centre-Forward   31    Fiorentina         Serie A   \n4     Nicolas Anelka  Centre-Forward   21   Real Madrid          LaLiga   \n\n       new_team new_league     season  estimated_value  transfer_fee  \n0   Real Madrid     LaLiga  2000-2001              NaN      60000000  \n1         Lazio    Serie A  2000-2001              NaN      56810000  \n2  FC Barcelona     LaLiga  2000-2001              NaN      40000000  \n3       AS Roma    Serie A  2000-2001              NaN      36150000  \n4      Paris SG    Ligue 1  2000-2001              NaN      34500000  ",
      "text/html": "<div>\n<style scoped>\n    .dataframe tbody tr th:only-of-type {\n        vertical-align: middle;\n    }\n\n    .dataframe tbody tr th {\n        vertical-align: top;\n    }\n\n    .dataframe thead th {\n        text-align: right;\n    }\n</style>\n<table border=\"1\" class=\"dataframe\">\n  <thead>\n    <tr style=\"text-align: right;\">\n      <th></th>\n      <th>name</th>\n      <th>position</th>\n      <th>age</th>\n      <th>original_team</th>\n      <th>original_league</th>\n      <th>new_team</th>\n      <th>new_league</th>\n      <th>season</th>\n      <th>estimated_value</th>\n      <th>transfer_fee</th>\n    </tr>\n  </thead>\n  <tbody>\n    <tr>\n      <th>0</th>\n      <td>Luís Figo</td>\n      <td>Right Winger</td>\n      <td>27</td>\n      <td>FC Barcelona</td>\n      <td>LaLiga</td>\n      <td>Real Madrid</td>\n      <td>LaLiga</td>\n      <td>2000-2001</td>\n      <td>NaN</td>\n      <td>60000000</td>\n    </tr>\n    <tr>\n      <th>1</th>\n      <td>Hernán Crespo</td>\n      <td>Centre-Forward</td>\n      <td>25</td>\n      <td>Parma</td>\n      <td>Serie A</td>\n      <td>Lazio</td>\n      <td>Serie A</td>\n      <td>2000-2001</td>\n      <td>NaN</td>\n      <td>56810000</td>\n    </tr>\n    <tr>\n      <th>2</th>\n      <td>Marc Overmars</td>\n      <td>Left Winger</td>\n      <td>27</td>\n      <td>Arsenal</td>\n      <td>Premier League</td>\n      <td>FC Barcelona</td>\n      <td>LaLiga</td>\n      <td>2000-2001</td>\n      <td>NaN</td>\n      <td>40000000</td>\n    </tr>\n    <tr>\n      <th>3</th>\n      <td>Gabriel Batistuta</td>\n      <td>Centre-Forward</td>\n      <td>31</td>\n      <td>Fiorentina</td>\n      <td>Serie A</td>\n      <td>AS Roma</td>\n      <td>Serie A</td>\n      <td>2000-2001</td>\n      <td>NaN</td>\n      <td>36150000</td>\n    </tr>\n    <tr>\n      <th>4</th>\n      <td>Nicolas Anelka</td>\n      <td>Centre-Forward</td>\n      <td>21</td>\n      <td>Real Madrid</td>\n      <td>LaLiga</td>\n      <td>Paris SG</td>\n      <td>Ligue 1</td>\n      <td>2000-2001</td>\n      <td>NaN</td>\n      <td>34500000</td>\n    </tr>\n  </tbody>\n</table>\n</div>"
     },
     "execution_count": 4,
     "metadata": {},
     "output_type": "execute_result"
    }
   ],
   "source": [
    "df.rename(columns={\"Jméno\": \"name\", \n",
    "                   \"Pozice\": \"position\", \n",
    "                   \"Věk\": \"age\", \n",
    "                   \"Původní tým\": \"original_team\", \n",
    "                   \"Původní liga\": \"original_league\",\n",
    "                   \"Nový tým\": \"new_team\",\n",
    "                   \"Nová  Liga\": \"new_league\",\n",
    "                   \"Sezóna\": \"season\",\n",
    "                   \"Odhadovaná hodnota\": \"estimated_value\",\n",
    "                   \"Přestupová částka\": \"transfer_fee\"}, inplace=True)\n",
    "df.head()"
   ],
   "metadata": {
    "collapsed": false,
    "ExecuteTime": {
     "end_time": "2024-01-19T17:28:21.278932Z",
     "start_time": "2024-01-19T17:28:21.203478300Z"
    }
   },
   "id": "ed7e408e4fc6913"
  },
  {
   "cell_type": "markdown",
   "source": [
    "### Validating text columns \n",
    "First I want to check all the text columns and try to find possible typos which could lead to duplicities. For this I will use difflib function get_close_matches, which will be able to return similar enough cases and should cover typos and mistranslations. "
   ],
   "metadata": {
    "collapsed": false
   },
   "id": "70ab31ffb0755b56"
  },
  {
   "cell_type": "code",
   "execution_count": 5,
   "outputs": [],
   "source": [
    "text_cols = [\"name\", \"position\", \"original_team\", \"original_league\", \"new_team\", \"new_league\"]\n",
    "\n",
    "def preprocess_text(column):\n",
    "    column = column.str.strip() # strip trailing spaces \n",
    "    column = column.str.replace(\"-\",\" \") # replace - with space\n",
    "    column = column.str.replace(\"\\n\",\"\") # remove newlines\n",
    "    column = column.str.replace(\"\\t\",\"\") # remove tabs\n",
    "    column = column.str.lower() # all lowercase\n",
    "    return column"
   ],
   "metadata": {
    "collapsed": false,
    "ExecuteTime": {
     "end_time": "2024-01-19T17:28:21.299199900Z",
     "start_time": "2024-01-19T17:28:21.234473800Z"
    }
   },
   "id": "5590400a6276eacc"
  },
  {
   "cell_type": "code",
   "execution_count": 6,
   "outputs": [],
   "source": [
    "for col in text_cols:\n",
    "    df[col] = preprocess_text(df[col])"
   ],
   "metadata": {
    "collapsed": false,
    "ExecuteTime": {
     "end_time": "2024-01-19T17:28:21.388274300Z",
     "start_time": "2024-01-19T17:28:21.236476Z"
    }
   },
   "id": "e8e217e8e22e8df"
  },
  {
   "cell_type": "code",
   "execution_count": 7,
   "outputs": [],
   "source": [
    "def get_similar_entities(unique_names):\n",
    "    matches= []\n",
    "    for i, name in enumerate(list(unique_names)):\n",
    "        possible_match = get_close_matches(name, list(unique_names[i+1:]), cutoff=0.7)\n",
    "        if possible_match:\n",
    "            matches.append((name, possible_match))\n",
    "    return matches"
   ],
   "metadata": {
    "collapsed": false,
    "ExecuteTime": {
     "end_time": "2024-01-19T17:28:21.433663600Z",
     "start_time": "2024-01-19T17:28:21.266408300Z"
    }
   },
   "id": "8716536b88bd712d"
  },
  {
   "cell_type": "code",
   "execution_count": 8,
   "outputs": [
    {
     "data": {
      "text/plain": "'Similarities for teams:'"
     },
     "metadata": {},
     "output_type": "display_data"
    },
    {
     "data": {
      "text/plain": "[('fc barcelona', ['fc barcelona b', 'barcelona sc', 'fc basel']),\n ('parma', ['paraná']),\n ('arsenal', ['arsenal fc', 'arsenal u23', 'arsenal u18']),\n ('real madrid', ['real murcia']),\n ('west ham', ['west brom']),\n ('monaco', ['monza']),\n ('valencia cf', ['valencia b']),\n ('atlético madrid', ['atlético pr', 'atlético mg']),\n ('atlético pr', ['atlético mg']),\n ('chelsea', ['chelsea u23']),\n ('inter', ['inter u19']),\n ('benfica', ['benfica b', 'benfica u19']),\n ('sparta praha', ['sparta r.']),\n ('partizan', ['paraná']),\n ('sporting cp', ['sporting gijón']),\n ('são paulo', ['fc são paulo b']),\n ('racing', ['reading', 'racing club']),\n ('lens', ['león', 'le mans']),\n ('mk dons', ['mk dons u18']),\n ('internacional', ['nacional', 'ternana']),\n ('dinamo zagreb', ['nk zagreb', 'dinamo bukarest']),\n ('olympiacos', ['olimpia']),\n ('bolton', ['bologna']),\n ('juventus', ['juventude']),\n ('rangers', ['sco angers']),\n ('nacional', ['atl. nacional']),\n ('loko moscow', ['cska moscow', 'torpedo moscow']),\n ('man utd', ['man utd u18']),\n ('siirtspor', ['eskisehirspor']),\n ('antalyaspor', ['malatyaspor', 'konyaspor']),\n ('monza', ['modena']),\n ('cska sofia', ['levski sofia', 'lok. sofia']),\n ('dundee fc', ['sounders fc']),\n ('lok. sofia', ['levski sofia']),\n ('shabab', ['al shabab']),\n ('olympique lyon', ['olymp. lyon b']),\n ('alavés', ['atlas']),\n ('vicenza', ['piacenza', 'venezia']),\n ('rsc anderlecht', ['anderlecht u19']),\n ('malmö ff', ['kalmar ff']),\n ('sc bastia', ['ec bahia']),\n ('paok saloniki', ['aris saloniki']),\n ('dinamo moscow', ['dinamo minsk']),\n ('man city', ['man city u18']),\n ('panionios', ['panathinaikos']),\n ('stoke city', ['bristol city']),\n ('elfsborg', ['helsingborg']),\n ('limón fc', ['al ain fc']),\n ('spartak moscow', ['cska moscow']),\n ('sh shenhua', ['sh shenxin']),\n ('ulsan', ['uralan']),\n ('rapid bucharest', ['fcs bucharest']),\n ('ahly', ['ahli']),\n ('spartak v.', ['sparta r.']),\n ('coimbra', ['coimbra mg']),\n ('figueirense fc', ['feirense']),\n ('metalurh d.', ['metalurh z.']),\n ('ca osasuna', ['ca osasuna b']),\n ('barcelona yth.', ['barcelona sc', 'fc barcelona b']),\n ('al arabi', ['al jazira']),\n ('manisaspor', ['osmanlispor', 'akhisarspor']),\n ('chiapas fc', ['caracas fc']),\n ('arsenal u23', ['arsenal u18', 'arsenal fc']),\n ('kuban krasnodar', ['krasnodar']),\n ('al ain fc', ['al wahda fc']),\n ('arsenal fc', ['arsenal u18']),\n ('grosseto', ['rostov']),\n ('fc barcelona b', ['barcelona sc']),\n ('al ettifaq', ['al ittihad']),\n ('al ahli (uae)', ['al ahli']),\n ('man city u18', ['man utd u18']),\n ('ittihad', ['al ittihad']),\n ('al nasr', ['nasr', 'al wasl']),\n ('al ahli', ['ahli', 'al wasl']),\n ('benfica u19', ['benfica b']),\n ('los angeles', ['los angeles fc'])]"
     },
     "metadata": {},
     "output_type": "display_data"
    },
    {
     "data": {
      "text/plain": "'Similarities for leagues:'"
     },
     "metadata": {},
     "output_type": "display_data"
    },
    {
     "data": {
      "text/plain": "[('laliga', ['laliga2']),\n ('serie a', ['série a', 'serie b', 'serie c   a']),\n ('premier league', ['u18 premier league', 'super league', 'premier liga']),\n ('ligue 1', ['ligue 2', 'liga 1', 'rel. ligue 1']),\n ('serie b', ['série b', 'serie c   b', 'série a']),\n ('1.bundesliga', ['2.bundesliga', 'bundesliga']),\n ('liga nos', ['liga 1']),\n ('eredivisie', ['u19 eredivisie']),\n ('england', ['finland']),\n ('süper lig', ['superliga', 'superligaen']),\n ('croatia', ['romania']),\n ('super league',\n  ['stars league', 'u18 premier league', 'jupiler pro league']),\n ('2.bundesliga', ['bundesliga']),\n ('1.lig', ['3.liga']),\n ('k league 1', ['j2 league', 'j1 league', 'league one']),\n ('serie c   a', ['serie c   b']),\n ('série a', ['série b']),\n ('superligaen', ['superliga']),\n ('j1 league', ['j2 league']),\n ('torneo final', ['torneo inicial']),\n ('2ª b   grupo iii', ['2ª b   grupo i']),\n ('liga mx clausura', ['liga mx apertura']),\n ('liga 1   championship group',\n  ['a grupa   championship gr.', 'superligaen championship round'])]"
     },
     "metadata": {},
     "output_type": "display_data"
    }
   ],
   "source": [
    "for col in [\"team\", \"league\"]:\n",
    "    display(f\"Similarities for {col}s:\")\n",
    "    display(get_similar_entities(pd.concat([df[f\"original_{col}\"], df[f\"new_{col}\"]]).unique()))"
   ],
   "metadata": {
    "collapsed": false,
    "ExecuteTime": {
     "end_time": "2024-01-19T17:28:21.733654600Z",
     "start_time": "2024-01-19T17:28:21.282404100Z"
    }
   },
   "id": "13cbcb47685b2fa1"
  },
  {
   "cell_type": "markdown",
   "source": [
    "### Text cols revision results:\n",
    "**Revision of close matches found out several mistakes:**\n",
    "FC Arsenal was in several instances named just Arsenal\n",
    "Al Shabab was in several instances named just Shabab\n",
    "Al Nasr was in several instances named just Nasr"
   ],
   "metadata": {
    "collapsed": false
   },
   "id": "401feda0853be594"
  },
  {
   "cell_type": "code",
   "execution_count": 9,
   "outputs": [],
   "source": [
    "df.loc[df[\"original_team\"] == \"arsenal\", \"original_team\"] = \"arsenal fc\"\n",
    "df.loc[df[\"new_team\"] == \"arsenal\", \"new_team\"] = \"arsenal fc\"\n",
    "\n",
    "df.loc[df[\"original_team\"] == \"shabab\", \"original_team\"] = \"al shabab\"\n",
    "df.loc[df[\"new_team\"] == \"shabab\", \"original_team\"] = \"al shabab\"\n",
    "\n",
    "df.loc[df[\"original_team\"] == \"nasr\", \"original_team\"] = \"al nasr\"\n",
    "df.loc[df[\"new_team\"] == \"nasr\", \"new_team\"] = \"al nasr\""
   ],
   "metadata": {
    "collapsed": false,
    "ExecuteTime": {
     "end_time": "2024-01-19T17:28:21.792172900Z",
     "start_time": "2024-01-19T17:28:21.734158900Z"
    }
   },
   "id": "cb891b631bb070dc"
  },
  {
   "cell_type": "markdown",
   "source": [
    "## Validating other columns \n",
    "looking into season, age, estimated_value and transfer_fee columns"
   ],
   "metadata": {
    "collapsed": false
   },
   "id": "e64d0988df64ae83"
  },
  {
   "cell_type": "code",
   "execution_count": 10,
   "outputs": [],
   "source": [
    "df[\"season\"] = df[\"season\"].str.split(\"-\", expand=True)[0] # take the starting year of season\n",
    "df[\"season\"] = df[\"season\"].astype(int)"
   ],
   "metadata": {
    "collapsed": false,
    "ExecuteTime": {
     "end_time": "2024-01-19T17:28:21.803412300Z",
     "start_time": "2024-01-19T17:28:21.748273300Z"
    }
   },
   "id": "f47fe6ec27603a4b"
  },
  {
   "cell_type": "markdown",
   "source": [
    "### Check validity of ages "
   ],
   "metadata": {
    "collapsed": false
   },
   "id": "6509eea95072a930"
  },
  {
   "cell_type": "code",
   "execution_count": 11,
   "outputs": [
    {
     "data": {
      "text/plain": "236      0\n1370    15\n945     16\n4502    16\n1306    16\n        ..\n439     34\n112     35\n2954    35\n487     35\n2414    35\nName: age, Length: 4700, dtype: int64"
     },
     "execution_count": 11,
     "metadata": {},
     "output_type": "execute_result"
    }
   ],
   "source": [
    "df[\"age\"].sort_values(ascending=True) # There is one player who is 0 years old"
   ],
   "metadata": {
    "collapsed": false,
    "ExecuteTime": {
     "end_time": "2024-01-19T17:28:21.804413Z",
     "start_time": "2024-01-19T17:28:21.764273700Z"
    }
   },
   "id": "dd8c435586ee79d7"
  },
  {
   "cell_type": "markdown",
   "source": [
    "There is one player with age 0. Assuming his parents did not sell his soul to a Saudi Arabian football club, I will impute this value with information available online. If there were more cases than just 1 and imputing with real data was too time consuming or impossible, I would use mean or median imputation. \n",
    "\n",
    "From his wikipedia page, I can see that he was 25 years old during his transfer from al shabab to ittihad"
   ],
   "metadata": {
    "collapsed": false
   },
   "id": "74491285318dad01"
  },
  {
   "cell_type": "code",
   "execution_count": 12,
   "outputs": [
    {
     "data": {
      "text/plain": "                  name        position  age original_team original_league  \\\n236  marzouq al otaibi  centre forward    0     al shabab    saudi arabia   \n\n    new_team    new_league  season  estimated_value  transfer_fee  \n236  ittihad  saudi arabia    2000              NaN       2000000  ",
      "text/html": "<div>\n<style scoped>\n    .dataframe tbody tr th:only-of-type {\n        vertical-align: middle;\n    }\n\n    .dataframe tbody tr th {\n        vertical-align: top;\n    }\n\n    .dataframe thead th {\n        text-align: right;\n    }\n</style>\n<table border=\"1\" class=\"dataframe\">\n  <thead>\n    <tr style=\"text-align: right;\">\n      <th></th>\n      <th>name</th>\n      <th>position</th>\n      <th>age</th>\n      <th>original_team</th>\n      <th>original_league</th>\n      <th>new_team</th>\n      <th>new_league</th>\n      <th>season</th>\n      <th>estimated_value</th>\n      <th>transfer_fee</th>\n    </tr>\n  </thead>\n  <tbody>\n    <tr>\n      <th>236</th>\n      <td>marzouq al otaibi</td>\n      <td>centre forward</td>\n      <td>0</td>\n      <td>al shabab</td>\n      <td>saudi arabia</td>\n      <td>ittihad</td>\n      <td>saudi arabia</td>\n      <td>2000</td>\n      <td>NaN</td>\n      <td>2000000</td>\n    </tr>\n  </tbody>\n</table>\n</div>"
     },
     "execution_count": 12,
     "metadata": {},
     "output_type": "execute_result"
    }
   ],
   "source": [
    "df[df[\"age\"] == 0]"
   ],
   "metadata": {
    "collapsed": false,
    "ExecuteTime": {
     "end_time": "2024-01-19T17:28:21.805414100Z",
     "start_time": "2024-01-19T17:28:21.781297100Z"
    }
   },
   "id": "179d6f042e9b3fbe"
  },
  {
   "cell_type": "code",
   "execution_count": 13,
   "outputs": [],
   "source": [
    "df.loc[df[\"age\"] == 0, \"age\"] = 25"
   ],
   "metadata": {
    "collapsed": false,
    "ExecuteTime": {
     "end_time": "2024-01-19T17:28:21.819306Z",
     "start_time": "2024-01-19T17:28:21.794613300Z"
    }
   },
   "id": "71e04ade4b441c6b"
  },
  {
   "cell_type": "code",
   "execution_count": 14,
   "outputs": [
    {
     "data": {
      "text/plain": "0"
     },
     "execution_count": 14,
     "metadata": {},
     "output_type": "execute_result"
    }
   ],
   "source": [
    "df[\"age\"].isna().sum() "
   ],
   "metadata": {
    "collapsed": false,
    "ExecuteTime": {
     "end_time": "2024-01-19T17:28:21.880110900Z",
     "start_time": "2024-01-19T17:28:21.809418900Z"
    }
   },
   "id": "f54958cf9dbb291b"
  },
  {
   "cell_type": "markdown",
   "source": [
    "### Check validity of season\n",
    "The number and values of seasons matches. No validation to go through here."
   ],
   "metadata": {
    "collapsed": false
   },
   "id": "e9337d3832ade0bd"
  },
  {
   "cell_type": "code",
   "execution_count": 15,
   "outputs": [
    {
     "data": {
      "text/plain": "array([2000, 2001, 2002, 2003, 2004, 2005, 2006, 2007, 2008, 2009, 2010,\n       2011, 2012, 2013, 2014, 2015, 2016, 2017, 2018])"
     },
     "execution_count": 15,
     "metadata": {},
     "output_type": "execute_result"
    }
   ],
   "source": [
    "df[\"season\"].unique()"
   ],
   "metadata": {
    "collapsed": false,
    "ExecuteTime": {
     "end_time": "2024-01-19T17:28:21.881112200Z",
     "start_time": "2024-01-19T17:28:21.826303200Z"
    }
   },
   "id": "1eeb68f4ebb18eee"
  },
  {
   "cell_type": "markdown",
   "source": [
    "### Check validity of transfer_fee\n"
   ],
   "metadata": {
    "collapsed": false
   },
   "id": "8b41a24ff9e48774"
  },
  {
   "cell_type": "code",
   "execution_count": 16,
   "outputs": [
    {
     "data": {
      "text/plain": "0"
     },
     "execution_count": 16,
     "metadata": {},
     "output_type": "execute_result"
    }
   ],
   "source": [
    "df[\"transfer_fee\"].isna().sum() # no missing values"
   ],
   "metadata": {
    "collapsed": false,
    "ExecuteTime": {
     "end_time": "2024-01-19T17:28:21.916242Z",
     "start_time": "2024-01-19T17:28:21.841324100Z"
    }
   },
   "id": "d1e7df16e0abb95c"
  },
  {
   "cell_type": "code",
   "execution_count": 17,
   "outputs": [
    {
     "data": {
      "text/plain": "           age   season estimated_value  transfer_fee\ncount  4700.00  4700.00         3440.00       4700.00\nmean     24.34  2009.00      8622469.48    9447586.17\nstd       3.21     5.47      8795180.75   10437719.32\nmin      15.00  2000.00        50000.00     825000.00\n25%      22.00  2004.00      3500000.00    4000000.00\n50%      24.00  2009.00      6000000.00    6500000.00\n75%      27.00  2014.00     10000000.00   10820000.00\nmax      35.00  2018.00    120000000.00  222000000.00",
      "text/html": "<div>\n<style scoped>\n    .dataframe tbody tr th:only-of-type {\n        vertical-align: middle;\n    }\n\n    .dataframe tbody tr th {\n        vertical-align: top;\n    }\n\n    .dataframe thead th {\n        text-align: right;\n    }\n</style>\n<table border=\"1\" class=\"dataframe\">\n  <thead>\n    <tr style=\"text-align: right;\">\n      <th></th>\n      <th>age</th>\n      <th>season</th>\n      <th>estimated_value</th>\n      <th>transfer_fee</th>\n    </tr>\n  </thead>\n  <tbody>\n    <tr>\n      <th>count</th>\n      <td>4700.00</td>\n      <td>4700.00</td>\n      <td>3440.00</td>\n      <td>4700.00</td>\n    </tr>\n    <tr>\n      <th>mean</th>\n      <td>24.34</td>\n      <td>2009.00</td>\n      <td>8622469.48</td>\n      <td>9447586.17</td>\n    </tr>\n    <tr>\n      <th>std</th>\n      <td>3.21</td>\n      <td>5.47</td>\n      <td>8795180.75</td>\n      <td>10437719.32</td>\n    </tr>\n    <tr>\n      <th>min</th>\n      <td>15.00</td>\n      <td>2000.00</td>\n      <td>50000.00</td>\n      <td>825000.00</td>\n    </tr>\n    <tr>\n      <th>25%</th>\n      <td>22.00</td>\n      <td>2004.00</td>\n      <td>3500000.00</td>\n      <td>4000000.00</td>\n    </tr>\n    <tr>\n      <th>50%</th>\n      <td>24.00</td>\n      <td>2009.00</td>\n      <td>6000000.00</td>\n      <td>6500000.00</td>\n    </tr>\n    <tr>\n      <th>75%</th>\n      <td>27.00</td>\n      <td>2014.00</td>\n      <td>10000000.00</td>\n      <td>10820000.00</td>\n    </tr>\n    <tr>\n      <th>max</th>\n      <td>35.00</td>\n      <td>2018.00</td>\n      <td>120000000.00</td>\n      <td>222000000.00</td>\n    </tr>\n  </tbody>\n</table>\n</div>"
     },
     "execution_count": 17,
     "metadata": {},
     "output_type": "execute_result"
    }
   ],
   "source": [
    "df.describe().apply(lambda s: s.apply('{0:.2f}'.format))"
   ],
   "metadata": {
    "collapsed": false,
    "ExecuteTime": {
     "end_time": "2024-01-19T17:28:21.939026500Z",
     "start_time": "2024-01-19T17:28:21.857737300Z"
    }
   },
   "id": "4857555d5057ada"
  },
  {
   "cell_type": "markdown",
   "source": [
    "### Check validity of estimated_value"
   ],
   "metadata": {
    "collapsed": false
   },
   "id": "ebf49b2c3934fb08"
  },
  {
   "cell_type": "code",
   "execution_count": 18,
   "outputs": [
    {
     "data": {
      "text/plain": "                   name          position  age  original_team  \\\n0             luís figo      right winger   27   fc barcelona   \n1         hernán crespo    centre forward   25          parma   \n2         marc overmars       left winger   27     arsenal fc   \n3     gabriel batistuta    centre forward   31     fiorentina   \n4        nicolas anelka    centre forward   21    real madrid   \n...                 ...               ...  ...            ...   \n4355       douglas luiz  central midfield   19  vasco da gama   \n4427       jadon sancho       left winger   17   man city u18   \n4618    davide bettella       centre back   18          inter   \n4648     william bianda       centre back   18           lens   \n4662           fernando       left winger   19      palmeiras   \n\n         original_league       new_team      new_league  season  \\\n0                 laliga    real madrid          laliga    2000   \n1                serie a          lazio         serie a    2000   \n2         premier league   fc barcelona          laliga    2000   \n3                serie a        as roma         serie a    2000   \n4                 laliga       paris sg         ligue 1    2000   \n...                  ...            ...             ...     ...   \n4355             série a       man city  premier league    2017   \n4427  u18 premier league  bor. dortmund    1.bundesliga    2017   \n4618             serie a       atalanta         serie a    2018   \n4648             ligue 2        as roma         serie a    2018   \n4662             série a    shakhtar d.    premier liga    2018   \n\n      estimated_value  transfer_fee  \n0                 NaN      60000000  \n1                 NaN      56810000  \n2                 NaN      40000000  \n3                 NaN      36150000  \n4                 NaN      34500000  \n...               ...           ...  \n4355              NaN      12000000  \n4427              NaN       7840000  \n4618              NaN       7000000  \n4648              NaN       6000000  \n4662              NaN       5500000  \n\n[1260 rows x 10 columns]",
      "text/html": "<div>\n<style scoped>\n    .dataframe tbody tr th:only-of-type {\n        vertical-align: middle;\n    }\n\n    .dataframe tbody tr th {\n        vertical-align: top;\n    }\n\n    .dataframe thead th {\n        text-align: right;\n    }\n</style>\n<table border=\"1\" class=\"dataframe\">\n  <thead>\n    <tr style=\"text-align: right;\">\n      <th></th>\n      <th>name</th>\n      <th>position</th>\n      <th>age</th>\n      <th>original_team</th>\n      <th>original_league</th>\n      <th>new_team</th>\n      <th>new_league</th>\n      <th>season</th>\n      <th>estimated_value</th>\n      <th>transfer_fee</th>\n    </tr>\n  </thead>\n  <tbody>\n    <tr>\n      <th>0</th>\n      <td>luís figo</td>\n      <td>right winger</td>\n      <td>27</td>\n      <td>fc barcelona</td>\n      <td>laliga</td>\n      <td>real madrid</td>\n      <td>laliga</td>\n      <td>2000</td>\n      <td>NaN</td>\n      <td>60000000</td>\n    </tr>\n    <tr>\n      <th>1</th>\n      <td>hernán crespo</td>\n      <td>centre forward</td>\n      <td>25</td>\n      <td>parma</td>\n      <td>serie a</td>\n      <td>lazio</td>\n      <td>serie a</td>\n      <td>2000</td>\n      <td>NaN</td>\n      <td>56810000</td>\n    </tr>\n    <tr>\n      <th>2</th>\n      <td>marc overmars</td>\n      <td>left winger</td>\n      <td>27</td>\n      <td>arsenal fc</td>\n      <td>premier league</td>\n      <td>fc barcelona</td>\n      <td>laliga</td>\n      <td>2000</td>\n      <td>NaN</td>\n      <td>40000000</td>\n    </tr>\n    <tr>\n      <th>3</th>\n      <td>gabriel batistuta</td>\n      <td>centre forward</td>\n      <td>31</td>\n      <td>fiorentina</td>\n      <td>serie a</td>\n      <td>as roma</td>\n      <td>serie a</td>\n      <td>2000</td>\n      <td>NaN</td>\n      <td>36150000</td>\n    </tr>\n    <tr>\n      <th>4</th>\n      <td>nicolas anelka</td>\n      <td>centre forward</td>\n      <td>21</td>\n      <td>real madrid</td>\n      <td>laliga</td>\n      <td>paris sg</td>\n      <td>ligue 1</td>\n      <td>2000</td>\n      <td>NaN</td>\n      <td>34500000</td>\n    </tr>\n    <tr>\n      <th>...</th>\n      <td>...</td>\n      <td>...</td>\n      <td>...</td>\n      <td>...</td>\n      <td>...</td>\n      <td>...</td>\n      <td>...</td>\n      <td>...</td>\n      <td>...</td>\n      <td>...</td>\n    </tr>\n    <tr>\n      <th>4355</th>\n      <td>douglas luiz</td>\n      <td>central midfield</td>\n      <td>19</td>\n      <td>vasco da gama</td>\n      <td>série a</td>\n      <td>man city</td>\n      <td>premier league</td>\n      <td>2017</td>\n      <td>NaN</td>\n      <td>12000000</td>\n    </tr>\n    <tr>\n      <th>4427</th>\n      <td>jadon sancho</td>\n      <td>left winger</td>\n      <td>17</td>\n      <td>man city u18</td>\n      <td>u18 premier league</td>\n      <td>bor. dortmund</td>\n      <td>1.bundesliga</td>\n      <td>2017</td>\n      <td>NaN</td>\n      <td>7840000</td>\n    </tr>\n    <tr>\n      <th>4618</th>\n      <td>davide bettella</td>\n      <td>centre back</td>\n      <td>18</td>\n      <td>inter</td>\n      <td>serie a</td>\n      <td>atalanta</td>\n      <td>serie a</td>\n      <td>2018</td>\n      <td>NaN</td>\n      <td>7000000</td>\n    </tr>\n    <tr>\n      <th>4648</th>\n      <td>william bianda</td>\n      <td>centre back</td>\n      <td>18</td>\n      <td>lens</td>\n      <td>ligue 2</td>\n      <td>as roma</td>\n      <td>serie a</td>\n      <td>2018</td>\n      <td>NaN</td>\n      <td>6000000</td>\n    </tr>\n    <tr>\n      <th>4662</th>\n      <td>fernando</td>\n      <td>left winger</td>\n      <td>19</td>\n      <td>palmeiras</td>\n      <td>série a</td>\n      <td>shakhtar d.</td>\n      <td>premier liga</td>\n      <td>2018</td>\n      <td>NaN</td>\n      <td>5500000</td>\n    </tr>\n  </tbody>\n</table>\n<p>1260 rows × 10 columns</p>\n</div>"
     },
     "execution_count": 18,
     "metadata": {},
     "output_type": "execute_result"
    }
   ],
   "source": [
    "df[df.isna().any(axis=1)] #1260 missing values -> all of them are in estimated_value "
   ],
   "metadata": {
    "collapsed": false,
    "ExecuteTime": {
     "end_time": "2024-01-19T17:28:21.979375200Z",
     "start_time": "2024-01-19T17:28:21.871772800Z"
    }
   },
   "id": "d4394754b9a1508"
  },
  {
   "cell_type": "markdown",
   "source": [
    "There are missing values across all the years except 2015. \n",
    "Most of  them in 2000, 2001, 2002, 2003, 2004.\n",
    "\n",
    "Possible solutions: \n",
    "   - Dropping the values\n",
    "   - mean/median imputation \n",
    "   - regression imputation"
   ],
   "metadata": {
    "collapsed": false
   },
   "id": "a022272c183a5775"
  },
  {
   "cell_type": "code",
   "execution_count": 19,
   "outputs": [
    {
     "data": {
      "text/plain": "season\n2001    250\n2000    248\n2002    244\n2003    242\n2004    189\n2005     28\n2006     20\n2007     13\n2008      7\n2010      4\n2017      3\n2018      3\n2012      2\n2013      2\n2009      2\n2014      1\n2016      1\n2011      1\nName: count, dtype: int64"
     },
     "execution_count": 19,
     "metadata": {},
     "output_type": "execute_result"
    }
   ],
   "source": [
    "df[df.isna().any(axis=1)][\"season\"].value_counts() "
   ],
   "metadata": {
    "collapsed": false,
    "ExecuteTime": {
     "end_time": "2024-01-19T17:28:21.992746100Z",
     "start_time": "2024-01-19T17:28:21.887579300Z"
    }
   },
   "id": "5ad80daffdb2a8de"
  },
  {
   "cell_type": "code",
   "execution_count": 20,
   "outputs": [],
   "source": [
    "def get_outliers(df, column_name):\n",
    "    # Create a figure and axis\n",
    "    fig, ax = plt.subplots(figsize=(10, 6))\n",
    "\n",
    "    # Plot the boxplot\n",
    "    boxplot = ax.boxplot(df[column_name], vert=False, patch_artist=True)\n",
    "\n",
    "    # Highlight outliers\n",
    "    q1 = df[column_name].quantile(0.25)\n",
    "    q3 = df[column_name].quantile(0.75)\n",
    "    iqr = q3 - q1\n",
    "    lower_bound = q1 - 1.5 * iqr\n",
    "    upper_bound = q3 + 1.5 * iqr\n",
    "\n",
    "    # Identify and highlight outliers\n",
    "    outliers = df[(df[column_name] < lower_bound) | (df[column_name] > upper_bound)]\n",
    "\n",
    "    # Change the color of the box to distinguish it from the outliers\n",
    "    for patch in boxplot['boxes']:\n",
    "        patch.set_facecolor('lightblue')\n",
    "\n",
    "    # Add the scatter plot for outliers\n",
    "    ax.scatter(outliers[column_name], [1] * len(outliers), color='red', label='Outliers')\n",
    "\n",
    "    # Set labels and title\n",
    "    ax.set_yticklabels([column_name])\n",
    "    ax.set_xlabel('Values')\n",
    "    ax.set_title(f'Boxplot for {column_name} with Outliers')\n",
    "\n",
    "    # Show legend\n",
    "    ax.legend()\n",
    "\n",
    "    # Disable scientific notation on the x-axis\n",
    "    ax.xaxis.set_major_formatter(ScalarFormatter(useMathText=False))\n",
    "\n",
    "    # Show the plot\n",
    "    plt.show()\n",
    "\n",
    "    # Return the outliers DataFrame\n",
    "    return outliers"
   ],
   "metadata": {
    "collapsed": false,
    "ExecuteTime": {
     "end_time": "2024-01-19T17:28:22.039677Z",
     "start_time": "2024-01-19T17:28:21.903362100Z"
    }
   },
   "id": "b7f8387b1b98accf"
  },
  {
   "cell_type": "code",
   "execution_count": 21,
   "outputs": [
    {
     "data": {
      "text/plain": "<Figure size 1000x600 with 1 Axes>",
      "image/png": "[encoded data removed]"
     },
     "metadata": {},
     "output_type": "display_data"
    },
    {
     "data": {
      "text/plain": "                     name       position  age    original_team  \\\n112   josé luis chilavert     goalkeeper   35  vélez sarsfield   \n487      claudio taffarel     goalkeeper   35      galatasaray   \n2414           zé roberto  left midfield   35         nacional   \n2954           shay given     goalkeeper   35         man city   \n\n       original_league       new_team      new_league  season  \\\n112          argentina  r. strasbourg         ligue 1    2000   \n487          süper lig          parma         serie a    2001   \n2414  primera división   hamburger sv    1.bundesliga    2009   \n2954    premier league    aston villa  premier league    2011   \n\n      estimated_value  transfer_fee  \n112               NaN       5300000  \n487               NaN       2000000  \n2414        5000000.0       4000000  \n2954        5500000.0       3750000  ",
      "text/html": "<div>\n<style scoped>\n    .dataframe tbody tr th:only-of-type {\n        vertical-align: middle;\n    }\n\n    .dataframe tbody tr th {\n        vertical-align: top;\n    }\n\n    .dataframe thead th {\n        text-align: right;\n    }\n</style>\n<table border=\"1\" class=\"dataframe\">\n  <thead>\n    <tr style=\"text-align: right;\">\n      <th></th>\n      <th>name</th>\n      <th>position</th>\n      <th>age</th>\n      <th>original_team</th>\n      <th>original_league</th>\n      <th>new_team</th>\n      <th>new_league</th>\n      <th>season</th>\n      <th>estimated_value</th>\n      <th>transfer_fee</th>\n    </tr>\n  </thead>\n  <tbody>\n    <tr>\n      <th>112</th>\n      <td>josé luis chilavert</td>\n      <td>goalkeeper</td>\n      <td>35</td>\n      <td>vélez sarsfield</td>\n      <td>argentina</td>\n      <td>r. strasbourg</td>\n      <td>ligue 1</td>\n      <td>2000</td>\n      <td>NaN</td>\n      <td>5300000</td>\n    </tr>\n    <tr>\n      <th>487</th>\n      <td>claudio taffarel</td>\n      <td>goalkeeper</td>\n      <td>35</td>\n      <td>galatasaray</td>\n      <td>süper lig</td>\n      <td>parma</td>\n      <td>serie a</td>\n      <td>2001</td>\n      <td>NaN</td>\n      <td>2000000</td>\n    </tr>\n    <tr>\n      <th>2414</th>\n      <td>zé roberto</td>\n      <td>left midfield</td>\n      <td>35</td>\n      <td>nacional</td>\n      <td>primera división</td>\n      <td>hamburger sv</td>\n      <td>1.bundesliga</td>\n      <td>2009</td>\n      <td>5000000.0</td>\n      <td>4000000</td>\n    </tr>\n    <tr>\n      <th>2954</th>\n      <td>shay given</td>\n      <td>goalkeeper</td>\n      <td>35</td>\n      <td>man city</td>\n      <td>premier league</td>\n      <td>aston villa</td>\n      <td>premier league</td>\n      <td>2011</td>\n      <td>5500000.0</td>\n      <td>3750000</td>\n    </tr>\n  </tbody>\n</table>\n</div>"
     },
     "execution_count": 21,
     "metadata": {},
     "output_type": "execute_result"
    }
   ],
   "source": [
    "get_outliers(df, \"age\")"
   ],
   "metadata": {
    "collapsed": false,
    "ExecuteTime": {
     "end_time": "2024-01-19T17:28:22.196184200Z",
     "start_time": "2024-01-19T17:28:21.919244400Z"
    }
   },
   "id": "ee1983406bd715a1"
  },
  {
   "cell_type": "code",
   "execution_count": 22,
   "outputs": [
    {
     "data": {
      "text/plain": "<Figure size 1000x600 with 1 Axes>",
      "image/png": "[encoded data removed]"
     },
     "metadata": {},
     "output_type": "display_data"
    },
    {
     "data": {
      "text/plain": "                   name        position  age   original_team original_league  \\\n0             luís figo    right winger   27    fc barcelona          laliga   \n1         hernán crespo  centre forward   25           parma         serie a   \n2         marc overmars     left winger   27      arsenal fc  premier league   \n3     gabriel batistuta  centre forward   31      fiorentina         serie a   \n4        nicolas anelka  centre forward   21     real madrid          laliga   \n...                 ...             ...  ...             ...             ...   \n4487     yuri berchiche       left back   28        paris sg         ligue 1   \n4488      alassane pléa  centre forward   25        ogc nice         ligue 1   \n4489    ricardo pereira      right back   24        fc porto        liga nos   \n4490        diogo dalot      right back   19        fc porto        liga nos   \n4491         alex meret      goalkeeper   21  udinese calcio         serie a   \n\n             new_team      new_league  season  estimated_value  transfer_fee  \n0         real madrid          laliga    2000              NaN      60000000  \n1               lazio         serie a    2000              NaN      56810000  \n2        fc barcelona          laliga    2000              NaN      40000000  \n3             as roma         serie a    2000              NaN      36150000  \n4            paris sg         ligue 1    2000              NaN      34500000  \n...               ...             ...     ...              ...           ...  \n4487  athletic bilbao          laliga    2018       17000000.0      24000000  \n4488  bor. m'gladbach    1.bundesliga    2018       18000000.0      23000000  \n4489        leicester  premier league    2018       20000000.0      22000000  \n4490          man utd  premier league    2018       15000000.0      22000000  \n4491       ssc napoli         serie a    2018       12000000.0      22000000  \n\n[377 rows x 10 columns]",
      "text/html": "<div>\n<style scoped>\n    .dataframe tbody tr th:only-of-type {\n        vertical-align: middle;\n    }\n\n    .dataframe tbody tr th {\n        vertical-align: top;\n    }\n\n    .dataframe thead th {\n        text-align: right;\n    }\n</style>\n<table border=\"1\" class=\"dataframe\">\n  <thead>\n    <tr style=\"text-align: right;\">\n      <th></th>\n      <th>name</th>\n      <th>position</th>\n      <th>age</th>\n      <th>original_team</th>\n      <th>original_league</th>\n      <th>new_team</th>\n      <th>new_league</th>\n      <th>season</th>\n      <th>estimated_value</th>\n      <th>transfer_fee</th>\n    </tr>\n  </thead>\n  <tbody>\n    <tr>\n      <th>0</th>\n      <td>luís figo</td>\n      <td>right winger</td>\n      <td>27</td>\n      <td>fc barcelona</td>\n      <td>laliga</td>\n      <td>real madrid</td>\n      <td>laliga</td>\n      <td>2000</td>\n      <td>NaN</td>\n      <td>60000000</td>\n    </tr>\n    <tr>\n      <th>1</th>\n      <td>hernán crespo</td>\n      <td>centre forward</td>\n      <td>25</td>\n      <td>parma</td>\n      <td>serie a</td>\n      <td>lazio</td>\n      <td>serie a</td>\n      <td>2000</td>\n      <td>NaN</td>\n      <td>56810000</td>\n    </tr>\n    <tr>\n      <th>2</th>\n      <td>marc overmars</td>\n      <td>left winger</td>\n      <td>27</td>\n      <td>arsenal fc</td>\n      <td>premier league</td>\n      <td>fc barcelona</td>\n      <td>laliga</td>\n      <td>2000</td>\n      <td>NaN</td>\n      <td>40000000</td>\n    </tr>\n    <tr>\n      <th>3</th>\n      <td>gabriel batistuta</td>\n      <td>centre forward</td>\n      <td>31</td>\n      <td>fiorentina</td>\n      <td>serie a</td>\n      <td>as roma</td>\n      <td>serie a</td>\n      <td>2000</td>\n      <td>NaN</td>\n      <td>36150000</td>\n    </tr>\n    <tr>\n      <th>4</th>\n      <td>nicolas anelka</td>\n      <td>centre forward</td>\n      <td>21</td>\n      <td>real madrid</td>\n      <td>laliga</td>\n      <td>paris sg</td>\n      <td>ligue 1</td>\n      <td>2000</td>\n      <td>NaN</td>\n      <td>34500000</td>\n    </tr>\n    <tr>\n      <th>...</th>\n      <td>...</td>\n      <td>...</td>\n      <td>...</td>\n      <td>...</td>\n      <td>...</td>\n      <td>...</td>\n      <td>...</td>\n      <td>...</td>\n      <td>...</td>\n      <td>...</td>\n    </tr>\n    <tr>\n      <th>4487</th>\n      <td>yuri berchiche</td>\n      <td>left back</td>\n      <td>28</td>\n      <td>paris sg</td>\n      <td>ligue 1</td>\n      <td>athletic bilbao</td>\n      <td>laliga</td>\n      <td>2018</td>\n      <td>17000000.0</td>\n      <td>24000000</td>\n    </tr>\n    <tr>\n      <th>4488</th>\n      <td>alassane pléa</td>\n      <td>centre forward</td>\n      <td>25</td>\n      <td>ogc nice</td>\n      <td>ligue 1</td>\n      <td>bor. m'gladbach</td>\n      <td>1.bundesliga</td>\n      <td>2018</td>\n      <td>18000000.0</td>\n      <td>23000000</td>\n    </tr>\n    <tr>\n      <th>4489</th>\n      <td>ricardo pereira</td>\n      <td>right back</td>\n      <td>24</td>\n      <td>fc porto</td>\n      <td>liga nos</td>\n      <td>leicester</td>\n      <td>premier league</td>\n      <td>2018</td>\n      <td>20000000.0</td>\n      <td>22000000</td>\n    </tr>\n    <tr>\n      <th>4490</th>\n      <td>diogo dalot</td>\n      <td>right back</td>\n      <td>19</td>\n      <td>fc porto</td>\n      <td>liga nos</td>\n      <td>man utd</td>\n      <td>premier league</td>\n      <td>2018</td>\n      <td>15000000.0</td>\n      <td>22000000</td>\n    </tr>\n    <tr>\n      <th>4491</th>\n      <td>alex meret</td>\n      <td>goalkeeper</td>\n      <td>21</td>\n      <td>udinese calcio</td>\n      <td>serie a</td>\n      <td>ssc napoli</td>\n      <td>serie a</td>\n      <td>2018</td>\n      <td>12000000.0</td>\n      <td>22000000</td>\n    </tr>\n  </tbody>\n</table>\n<p>377 rows × 10 columns</p>\n</div>"
     },
     "execution_count": 22,
     "metadata": {},
     "output_type": "execute_result"
    }
   ],
   "source": [
    "get_outliers(df, \"transfer_fee\")"
   ],
   "metadata": {
    "collapsed": false,
    "ExecuteTime": {
     "end_time": "2024-01-19T17:28:22.338370400Z",
     "start_time": "2024-01-19T17:28:22.142025500Z"
    }
   },
   "id": "dde324facd2819f0"
  },
  {
   "cell_type": "markdown",
   "source": [
    "### Deriving feature country\n",
    "**While league and team may be useful identificators of the background, it may not always be clear where the team is from as we have 615 unique teams. I decided to engineer a features \"origin_country\" and \"target_country\", that will represent the countries of the original and target teams, respectively.**\n",
    "\n",
    "**For this I decided to use GPT 3.5 from OpenAI with the prompt:**\n",
    "*\"You will be presented with a list of football teams. I want you to assign the country of origin to them. Provide me with an output in the form of a python dictionary. E.g. {\"Chelsea\": \"England\", \"Bayern\": \"Germany\"}. If you are not sure what country the team is from, type \"unknown\".\"*\n",
    "\n",
    "\n",
    "**Outputs from the language model were saved into *countries.json* file.** "
   ],
   "metadata": {
    "collapsed": false
   },
   "id": "9b8e9dea7938c4fa"
  },
  {
   "cell_type": "code",
   "execution_count": 23,
   "outputs": [
    {
     "data": {
      "text/plain": "array(['fc barcelona', 'parma', 'arsenal fc', 'fiorentina', 'real madrid',\n       'west ham', 'dep. la coruña', 'real zaragoza', 'monaco',\n       'valencia cf', 'atlético madrid', 'atlético pr', 'river plate',\n       'boca juniors', 'stade rennais', 'coventry city',\n       'cagliari calcio', 'bay. leverkusen', 'chelsea', 'dynamo kyiv',\n       'inter', 'rcd mallorca', 'g. bordeaux', 'fc porto', 'benfica',\n       'lazio', 'real betis', 'everton', 'sparta praha', 'málaga cf',\n       'partizan', 'celta de vigo', 'sporting cp', 'aston villa',\n       'afc ajax', 'são paulo', 'marseille', 'racing', 'lens', 'mk dons',\n       'cd tenerife', 'norwich', 'celtic', 'fenerbahce', 'middlesbrough',\n       'internacional', 'leicester', 'rosenborg bk', 'dinamo zagreb',\n       'feyenoord', 'grasshoppers', 'olympiacos', 'bolton', 'reggina',\n       'juventus', 'fluminense', 'lecce', 'liverpool', 'cd cruz azul',\n       'u. de chile', 'ponte preta', 'vitesse', 'galatasaray',\n       'montpellier', 'roda jc', 'real valladolid', \"newell's\",\n       'newcastle', 'derby', 'perugia', 'bologna', 'denizlispor',\n       'az alkmaar', 'vélez sarsfield', 'ac milan', 'samsunspor',\n       'goiás ec', 'levante ud', 'argentinos', 'birmingham', 'danubio fc',\n       'litex lovetch', 'aj auxerre', 'racing club', 'ipswich', 'avaí fc',\n       'rangers', 'vit. guimarães', 'nacional', 'barnsley fc',\n       'fc st. gallen', 'sheff wed', 'leeds', 'colchester utd.',\n       'blackburn', 'hamburger sv', 'busan ipark', 'sevilla fc',\n       'fc schalke 04', 'fulham', 'fc metz', 'sheffield utd.',\n       'loko moscow', 'bristol rovers', 'pol. warsaw', 'man utd',\n       'bradford city', 'peñarol', 'sd compostela', 'fc zürich',\n       'as roma', 'shakhtar d.', 'siirtspor', 'hibernian fc', 'örgryte',\n       'skonto riga', \"bor. m'gladbach\", 'fc utrecht', 'sm caen',\n       'fc sochaux', 'willem ii', 'yokohama f. m.', 'heart of midl.',\n       'fc lahti', 'odense bk', 'fk obilic', 'rkc waalwijk',\n       'antalyaspor', 'kaa gent', 'monza', 'cska sofia', 'club brugge',\n       'guarani', \"1.fc k'lautern\", 'dundee fc', 'cambridge utd.',\n       'akademisk bk', '1. fc köln', 'sunderland', 'lok. sofia',\n       'fc sion', 'cukaricki', 'zenit s pb', 'al shabab', 'spurs',\n       'nk zagreb', 'lilleström sk', 'sydney olympic', 'bor. dortmund',\n       'sporting gijón', 'psv eindhoven', 'bari', 'udinese calcio',\n       'cruzeiro', 'espanyol', 'olympique lyon', 'alavés', 'vicenza',\n       'iraklis', 'atalanta', 'paris sg', 'flamengo', 'red star',\n       'southampton', 'fc nantes', 'standard liège', 'independiente',\n       'ternana', 'rsc anderlecht', 'hellas verona', 'r. strasbourg',\n       'corinthians', 'piacenza', 'fc twente', 'werder bremen',\n       'bayern munich', 'malmö ff', 'nottm forest', 'preston ne',\n       'sc bastia', 'west brom', 'portsmouth', 'grêmio', 'banik ostrava',\n       'inter bratislava', 'sampdoria', 'ud las palmas', 'defensor',\n       'vfl wolfsburg', 'necaxa', 'san lorenzo', 'urawa reds',\n       'dinamo bukarest', 'hansa rostock', 'besiktas', 'são caetano',\n       'ca rosario', 'alverca', 'troyes', 'atlético mg', 'stabaek if',\n       'bate borisov', 'as nancy', 'paok saloniki', 'dl shide',\n       'servette fc', 'vfl bochum', 'sc freiburg', 'lanús', 'fc lugano',\n       'dinamo moscow', '1.fc nuremberg', 'man city', 'ssc napoli',\n       'wigan', 'panionios', 'colo colo', 'blackpool', 'braga',\n       'genclerbirligi', 'persepolis', 'ao xanthi', 'lierse sk',\n       'stoke city', 'hajduk split', 'saint étienne', 'arm. bielefeld',\n       'rsc charleroi', 'ssv reutlingen', 'qpr', 'venezia', 'elfsborg',\n       'nec nijmegen', 'exc. mouscron', 'sturm graz', 'trujillanos',\n       'limón fc', 'fc lorient', 'ksc lokeren', 'aalborg bk', 'fc empoli',\n       'hertha bsc', 'cs sedan', 'fc copenhagen', 'losc lille',\n       'hannover 96', 'crystal palace', 'ud salamanca', 'ec vitória',\n       'kyoto sanga', 'fc groningen', '1860 munich', 'levski sofia',\n       'ogc nice', 'chievo verona', 'tranmere rovers', 'slovan liberec',\n       'spartak moscow', 'aris saloniki', 'heerenveen', 'gimnasia',\n       'fc midtjylland', '1.fsv mainz 05', 'nk varazdin', 'brescia',\n       'le havre u19', 'real sociedad', 'de graafschap', 'helsingborg',\n       'e. frankfurt', 'vitória setúbal', 'le mans', 'gaziantepspor',\n       'rad', 'ajax u19', 'el masry', 'marítimo', 'cd palestino',\n       'watford', 'estudiantes', 'karlsruher sc', 'bursaspor',\n       'ks samara', 'charlton', 'livingston fc', 'kvc westerlo',\n       'sh shenhua', 'viking fk', 'bj sinobo guoan', 'ofk beograd',\n       'bsc young boys', 'trabzonspor', 'energie cottbus', 'morelia',\n       'wolves', 'fk teplice', 'iraty sc', 'belenenses', 'leiria', 'cduc',\n       'ucla bruins', 'paraná', 'istres fc', 'liaoning fc', 'anconitana',\n       'siena', 'juventude', 'lausanne sport', 'krc genk', 'guingamp',\n       'maccabi haifa', 'ulsan', 'djurgarden', 'millwall', 'ny red bulls',\n       'barça juvenil a', 'fc basel', 'como', 'es sahel', 'slavia prag',\n       'royal antwerp', 'orlando pirates', 'vasco da gama', 'cf pachuca',\n       'brighton', 'rotor volgograd', 'rc cesena', 'ksk beveren',\n       'huddersfield', 'wattenscheid 09', 'motherwell fc', 'toluca',\n       'rapid bucharest', 'indep. medellín', 'uralan', 'ahly',\n       'malatyaspor', 'fcs bucharest', 'spartak v.', 'istanbulspor',\n       'dinamo minsk', 'mk dons u18', 'beerschot ac', 'gillingham fc',\n       'chacarita jrs', 'fcm bacau', 'hammarby', 'crewe alexandra',\n       'sheriff', 'boavista', 'rotherham utd.', 'coimbra',\n       'figueirense fc', 'lada togliatti', 'cska moscow', 'santos fc',\n       'as livorno', 'palmeiras', 'villarreal cf', 'genoa', 'colón',\n       'cardiff', 'atlas', 'vfb stuttgart', 'pescara', 'kashiwa reysol',\n       'alianza lima', 'panathinaikos', 'albacete', 'olimpia',\n       'metalurh d.', 'valerenga', 'burnley', 'ferencváros', 'tromsø',\n       'vojvodina', 'coritiba fc', 'grodzisk', 'torpedo moscow',\n       'sk brann', 'chicago fire', 'uc albinoleffe', 'bröndby if',\n       'wisla kraków', 'karpaty', 'suwon bluewings', 'santos laguna',\n       'cerro porteño', 'egaleo ao', 'östers if', 'athletic bilbao',\n       'us palermo', 'arezzo', 'al qadisiyah', 'treviso', 'luton town',\n       'ac le havre', 'dnipro', 'ca osasuna', 'rapid vienna',\n       'barcelona yth.', 'chivas', 'al sadd', 'enppi', 'al arabi',\n       'kashima antlers', 'atl. nacional', 'once caldas', 'modena',\n       'austria vienna', 'elche cf', 'lok. plovdiv', 'zbrojovka brno',\n       'ca banfield', 'nordsjaelland', 'fk lyn', 'rubin kazan',\n       'ca osasuna b', 'toulouse', 'portuguesa', 'tom tomsk', 'getafe cf',\n       'botafogo', 'manisaspor', 'chiapas fc', 'aek athens', 'saturn',\n       'deportivo cali', 'bristol city', 'revolution', 'arsenal u23',\n       'cobreloa', 'ituano', 'jef utd. chiba', 'américa', 'reading',\n       'kalmar ff', 'asante kotoko', 'audax italiano', 'legia warszawa',\n       'ifk göteborg', 'unam pumas', 'catania', 'recr. huelva',\n       'desp. brasil', 'ud almería', 'kayserispor', 'gamba osaka',\n       'tokyo verdy', 'valenciennes fc', 'torino', 'fk moskau',\n       'toronto fc', 'sparta r.', 'ldu quito', 'wanderers', 'rimini',\n       'vasco u17', 'hull city', 'huracán', 'cfr cluj', 'vvv venlo',\n       'nagoya grampus', 'hamilton acad.', 'al jazira', 'kuban krasnodar',\n       'osmanlispor', 'molde fk', 'neuchâtel xamax', 'cd godoy cruz',\n       'tigre', 'instituto', 'tsg hoffenheim', 'rb salzburg', 'inter u19',\n       'al ain fc', 'sigma olomouc', 'rm castilla', 'grosseto',\n       'aalesund', 'krasnodar', 'novara', 'lech poznan', 'quilmes',\n       'metalist', 'r. madrid youth', 'tombense', 'cittadella',\n       'kasimpasa', 'fc bayern ii', 'metalurh z.', 'anzhi', 'maldonado',\n       'karabükspor', 'stade brest 29', 'fc são paulo b', 'hilal',\n       'valencia b', 'fc barcelona b', 'belgrano', 'hércules cf',\n       'rentistas', 'peterborough', 'swansea', 'coimbra mg', 'al gharafa',\n       'esperance', 'dijon', 'granada cf', 'al ettifaq', 'al rayyan',\n       'monterrey', 'club tijuana', 'eskisehirspor', 'rayo vallecano',\n       'pohang steelers', 'olymp. lyon b', 'sassuolo', 'rnk split',\n       'qd jonoon', 'depor jugend', 'viktoria plzen', 'baniyas sc',\n       'hnk rijeka', 'gz evergrande', 'bj renhe', 'reims', 'akhisarspor',\n       'dl yifang', 'barcelona sc', 'ec bahia', 'fc augsburg',\n       'brentford', 'gz r&f', 'hn jianye', 'js suning', 'león',\n       'zj greentown', 'sh shenxin', 'rio ave fc', 'sd luneng',\n       'bournemouth', 'yb funde', 'al ahli (uae)', 'aik solna',\n       'm. tel aviv', 'paços ferreira', 'rb leipzig', 'basaksehir',\n       'kv oostende', 'sd eibar', 'sco angers', 'tigres uanl',\n       'zulte waregem', 'kas eupen', 'rostov', 'man city u18',\n       'ludogorets', 'cd leganés', 'vancouver', 'zorya lugansk',\n       'kv mechelen', 'sc amiens', 'ascoli', 'feirense', 'fc ingolstadt',\n       'rs berkane', 'junior fc', 'portimonense', 'ittihad',\n       'kawasaki front.', 'caracas fc', 'anderlecht u19', 'querétaro fc',\n       'al ittihad', 'chelsea u23', 'vissel kobe', 'tj teda', 'al nasr',\n       'man utd u18', 'tiburones rojos', 'arsenal u18', 'al ahli',\n       'vegalta sendai', 'akhmat grozny', 'konyaspor', 'real murcia',\n       'umm salal', 'al wahda fc', 'padova', 'al wasl', 'el jaish',\n       'milan u19', 'benfica u19', 'al duhail', 'shabab', 'los angeles',\n       'ahli', 'sounders fc', 'sipg', 'hb cffc', 'tj quanjian',\n       'benfica b', 'cc yatai', 'sz fc', 'atlanta united',\n       'cq dangdai lif.', 'pyramids fc', 'sharjah fc', 'los angeles fc',\n       'girona fc', 'benevento', 'spal'], dtype=object)"
     },
     "execution_count": 23,
     "metadata": {},
     "output_type": "execute_result"
    }
   ],
   "source": [
    "pd.concat([df[\"original_team\"], df[\"new_team\"]]).unique()  # output from this list was used in the prompt to generate the feature country"
   ],
   "metadata": {
    "collapsed": false,
    "ExecuteTime": {
     "end_time": "2024-01-19T17:28:22.369379Z",
     "start_time": "2024-01-19T17:28:22.277446700Z"
    }
   },
   "id": "5000f5b0544ccad2"
  },
  {
   "cell_type": "code",
   "execution_count": 24,
   "outputs": [],
   "source": [
    "with open(\"countries.json\", \"r\", encoding=\"utf-8\") as f:\n",
    "    countries = json.load(f)"
   ],
   "metadata": {
    "collapsed": false,
    "ExecuteTime": {
     "end_time": "2024-01-19T17:28:22.389918700Z",
     "start_time": "2024-01-19T17:28:22.294297900Z"
    }
   },
   "id": "cddc2b94f63f263d"
  },
  {
   "cell_type": "code",
   "execution_count": 25,
   "outputs": [],
   "source": [
    "df_countries = pd.DataFrame.from_dict(countries.items())\n",
    "df_countries.columns =[\"team\", \"country\"]\n",
    "df_countries[\"team\"] = preprocess_text(df_countries[\"team\"])\n",
    "df_countries[\"country\"] = preprocess_text(df_countries[\"country\"])"
   ],
   "metadata": {
    "collapsed": false,
    "ExecuteTime": {
     "end_time": "2024-01-19T17:28:22.389918700Z",
     "start_time": "2024-01-19T17:28:22.309816800Z"
    }
   },
   "id": "bcd491eb3997454e"
  },
  {
   "cell_type": "code",
   "execution_count": 26,
   "outputs": [],
   "source": [
    "df = pd.merge(df, df_countries, left_on=['new_team'], right_on=['team'], how='left')\n",
    "df = pd.merge(df, df_countries, left_on=['original_team'], right_on=['team'], how='left', suffixes=('_new', '_original'))\n",
    "df.drop(['team_new', 'team_original'], axis=1, inplace=True)\n",
    "df.rename(columns={'country_new': 'new_country', 'country_original': 'original_country'}, inplace=True)\n"
   ],
   "metadata": {
    "collapsed": false,
    "ExecuteTime": {
     "end_time": "2024-01-19T17:28:22.471208500Z",
     "start_time": "2024-01-19T17:28:22.325844800Z"
    }
   },
   "id": "b35acaf5b5420c27"
  }
 ],
 "metadata": {
  "kernelspec": {
   "display_name": "Python 3",
   "language": "python",
   "name": "python3"
  },
  "language_info": {
   "codemirror_mode": {
    "name": "ipython",
    "version": 2
   },
   "file_extension": ".py",
   "mimetype": "text/x-python",
   "name": "python",
   "nbconvert_exporter": "python",
   "pygments_lexer": "ipython2",
   "version": "2.7.6"
  }
 },
 "nbformat": 4,
 "nbformat_minor": 5
}
